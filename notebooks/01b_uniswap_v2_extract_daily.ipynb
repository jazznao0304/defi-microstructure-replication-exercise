{
 "cells": [
  {
   "cell_type": "code",
   "execution_count": 1,
   "id": "f479d965-e759-418d-8fb1-b2072a67926d",
   "metadata": {},
   "outputs": [],
   "source": [
    "# setup\n",
    "%load_ext autoreload\n",
    "%autoreload 2\n",
    "import os, sys, datetime as dt\n",
    "sys.path.append(os.path.abspath(\"../src\"))\n",
    "\n",
    "from replication.uniswap_v2_extract_daily import run_uniswap_v2_extract_daily"
   ]
  },
  {
   "cell_type": "code",
   "execution_count": 2,
   "id": "3d65df95-87b4-47c8-a047-d34673a90663",
   "metadata": {},
   "outputs": [
    {
     "data": {
      "text/plain": [
       "'\\n# ETH-USDC and ETH-USDT, full window (daily from subgraph)\\nrun_uniswap_v2_extract_daily(labels=[\"ETH-USDC\", \"ETH-USDT\"])\\n'"
      ]
     },
     "execution_count": 2,
     "metadata": {},
     "output_type": "execute_result"
    }
   ],
   "source": [
    "\"\"\"\n",
    "# ETH-USDC and ETH-USDT, full window (daily from subgraph)\n",
    "run_uniswap_v2_extract_daily(labels=[\"ETH-USDC\", \"ETH-USDT\"])\n",
    "\"\"\""
   ]
  },
  {
   "cell_type": "code",
   "execution_count": 3,
   "id": "7cfac41b-f36c-4521-b3a3-508c0ef7e844",
   "metadata": {},
   "outputs": [
    {
     "data": {
      "text/plain": [
       "'\\n# All pairs, one week\\'s worth\\nSTART = int(dt.datetime(2021, 5, 1, tzinfo=dt.timezone.utc).timestamp())\\nEND   = int(dt.datetime(2021, 5, 8, tzinfo=dt.timezone.utc).timestamp())\\nrun_uniswap_v2_extract_daily(start_ts=START, end_ts=END, filename_suffix=\"_wk\", out_subdir=\"testweek\")\\n'"
      ]
     },
     "execution_count": 3,
     "metadata": {},
     "output_type": "execute_result"
    }
   ],
   "source": [
    "\"\"\"\n",
    "# All pairs, one week's worth\n",
    "START = int(dt.datetime(2021, 5, 1, tzinfo=dt.timezone.utc).timestamp())\n",
    "END   = int(dt.datetime(2021, 5, 8, tzinfo=dt.timezone.utc).timestamp())\n",
    "run_uniswap_v2_extract_daily(start_ts=START, end_ts=END, filename_suffix=\"_wk\", out_subdir=\"testweek\")\n",
    "\"\"\""
   ]
  },
  {
   "cell_type": "code",
   "execution_count": 4,
   "id": "c30d4f46-f40e-42da-a4e0-72b91df66626",
   "metadata": {},
   "outputs": [
    {
     "name": "stdout",
     "output_type": "stream",
     "text": [
      "[OK] ETH-USDC -> 0xb4e16d0168e52d35cacd2c6185b44281ec28c9dc\n",
      "[OK] ETH-USDT -> 0x0d4a11d5eeaac28ec3f61d100daf4d40471f1852\n",
      "[OK] ETH-BTC -> 0xbb2b8038a1640196fbe3e38816f3e67cba72d940\n",
      "[OK] LINK-ETH -> 0xa2107fa5b38d9bbd2c461d6edf11b11a50f6b974\n",
      "[OK] BTC-USDC -> 0x004375dff511095cc5a197a54140a24efef3a416\n",
      "[OK] DAI-ETH -> 0xa478c2975ab1ea89e8196811f51a7b7ade33eb11\n",
      "[OK] MANA-ETH -> 0x11b1f53204d03e5529f09eb3091939e4fd8c9cf3\n",
      "[OK] USDC-USDT -> 0x3041cbd36888becc7bbcbc0045e3b1f144466f5f\n",
      "[OK] DAI-USDT -> 0xb20bd5d04be54f870d5c0d3ca85d82b34b836405\n",
      "[OK] AAVE-ETH -> 0xdfc14d2af169b0d36c4eff567ada9b2e0cae044f\n",
      "[OK] BAT-ETH -> 0xb6909b960dbbe7392d405429eb2b3649752b4838\n",
      "[OK] BTC-DAI -> 0x231b7589426ffe1b75405526fc32ac09d44364c4\n",
      "[OK] CRV-ETH -> 0x3da1313ae46132a397d90d95b1424a9a7e3e0fce\n",
      "[OK] GRT-ETH -> 0x2e81ec0b8b4022fac83a21b2f2b4b8f5ed744d70\n",
      "[OK] KNC-ETH -> 0xf49c43ae0faf37217bdcb00df478cf793edd6687\n",
      "[OK] REP-ETH -> 0x8979a3ef9d540480342ac0f56e9d4c88807b1cba\n",
      "[OK] SNX-ETH -> 0x43ae24960e5534731fc831386c07755a2dc33d47\n",
      "[OK] STORJ-ETH -> 0xaef16913b6c50ebcf627a394921f306985fc8604\n",
      "[OK] UNI-ETH -> 0xd3d2e2692501a5c9ca623199d38826e513033a17\n",
      "[OK] OMG-ETH -> 0x48e313460dd00100e22230e56e0a87b394066844\n",
      "Window: full (2021-02-01 → 2023-03-01, UTC)\n",
      "Saved pair map -> C:\\Users\\jazzn\\Downloads\\thesis\\ssrn-3984897-replication\\data\\raw\\uniswap_v2\\meta\\pairs.parquet\n",
      "\n",
      "=== ETH-USDC (0xb4e16d0168e52d35cacd2c6185b44281ec28c9dc) ===\n",
      "Saved pairDayData -> C:\\Users\\jazzn\\Downloads\\thesis\\ssrn-3984897-replication\\data\\raw\\uniswap_v2\\pair_day_data\\ETH-USDC.parquet\n",
      "[DONE] ETH-USDC\n",
      "\n",
      "=== ETH-USDT (0x0d4a11d5eeaac28ec3f61d100daf4d40471f1852) ===\n",
      "Saved pairDayData -> C:\\Users\\jazzn\\Downloads\\thesis\\ssrn-3984897-replication\\data\\raw\\uniswap_v2\\pair_day_data\\ETH-USDT.parquet\n",
      "[DONE] ETH-USDT\n",
      "\n",
      "=== ETH-BTC (0xbb2b8038a1640196fbe3e38816f3e67cba72d940) ===\n",
      "Saved pairDayData -> C:\\Users\\jazzn\\Downloads\\thesis\\ssrn-3984897-replication\\data\\raw\\uniswap_v2\\pair_day_data\\ETH-BTC.parquet\n",
      "[DONE] ETH-BTC\n",
      "\n",
      "=== LINK-ETH (0xa2107fa5b38d9bbd2c461d6edf11b11a50f6b974) ===\n",
      "Saved pairDayData -> C:\\Users\\jazzn\\Downloads\\thesis\\ssrn-3984897-replication\\data\\raw\\uniswap_v2\\pair_day_data\\LINK-ETH.parquet\n",
      "[DONE] LINK-ETH\n",
      "\n",
      "=== BTC-USDC (0x004375dff511095cc5a197a54140a24efef3a416) ===\n",
      "Saved pairDayData -> C:\\Users\\jazzn\\Downloads\\thesis\\ssrn-3984897-replication\\data\\raw\\uniswap_v2\\pair_day_data\\BTC-USDC.parquet\n",
      "[DONE] BTC-USDC\n",
      "\n",
      "=== DAI-ETH (0xa478c2975ab1ea89e8196811f51a7b7ade33eb11) ===\n",
      "Saved pairDayData -> C:\\Users\\jazzn\\Downloads\\thesis\\ssrn-3984897-replication\\data\\raw\\uniswap_v2\\pair_day_data\\DAI-ETH.parquet\n",
      "[DONE] DAI-ETH\n",
      "\n",
      "=== MANA-ETH (0x11b1f53204d03e5529f09eb3091939e4fd8c9cf3) ===\n",
      "Saved pairDayData -> C:\\Users\\jazzn\\Downloads\\thesis\\ssrn-3984897-replication\\data\\raw\\uniswap_v2\\pair_day_data\\MANA-ETH.parquet\n",
      "[DONE] MANA-ETH\n",
      "\n",
      "=== USDC-USDT (0x3041cbd36888becc7bbcbc0045e3b1f144466f5f) ===\n",
      "Saved pairDayData -> C:\\Users\\jazzn\\Downloads\\thesis\\ssrn-3984897-replication\\data\\raw\\uniswap_v2\\pair_day_data\\USDC-USDT.parquet\n",
      "[DONE] USDC-USDT\n",
      "\n",
      "=== DAI-USDT (0xb20bd5d04be54f870d5c0d3ca85d82b34b836405) ===\n",
      "Saved pairDayData -> C:\\Users\\jazzn\\Downloads\\thesis\\ssrn-3984897-replication\\data\\raw\\uniswap_v2\\pair_day_data\\DAI-USDT.parquet\n",
      "[DONE] DAI-USDT\n",
      "\n",
      "=== AAVE-ETH (0xdfc14d2af169b0d36c4eff567ada9b2e0cae044f) ===\n",
      "Saved pairDayData -> C:\\Users\\jazzn\\Downloads\\thesis\\ssrn-3984897-replication\\data\\raw\\uniswap_v2\\pair_day_data\\AAVE-ETH.parquet\n",
      "[DONE] AAVE-ETH\n",
      "\n",
      "=== BAT-ETH (0xb6909b960dbbe7392d405429eb2b3649752b4838) ===\n",
      "Saved pairDayData -> C:\\Users\\jazzn\\Downloads\\thesis\\ssrn-3984897-replication\\data\\raw\\uniswap_v2\\pair_day_data\\BAT-ETH.parquet\n",
      "[DONE] BAT-ETH\n",
      "\n",
      "=== BTC-DAI (0x231b7589426ffe1b75405526fc32ac09d44364c4) ===\n",
      "Saved pairDayData -> C:\\Users\\jazzn\\Downloads\\thesis\\ssrn-3984897-replication\\data\\raw\\uniswap_v2\\pair_day_data\\BTC-DAI.parquet\n",
      "[DONE] BTC-DAI\n",
      "\n",
      "=== CRV-ETH (0x3da1313ae46132a397d90d95b1424a9a7e3e0fce) ===\n",
      "Saved pairDayData -> C:\\Users\\jazzn\\Downloads\\thesis\\ssrn-3984897-replication\\data\\raw\\uniswap_v2\\pair_day_data\\CRV-ETH.parquet\n",
      "[DONE] CRV-ETH\n",
      "\n",
      "=== GRT-ETH (0x2e81ec0b8b4022fac83a21b2f2b4b8f5ed744d70) ===\n",
      "Saved pairDayData -> C:\\Users\\jazzn\\Downloads\\thesis\\ssrn-3984897-replication\\data\\raw\\uniswap_v2\\pair_day_data\\GRT-ETH.parquet\n",
      "[DONE] GRT-ETH\n",
      "\n",
      "=== KNC-ETH (0xf49c43ae0faf37217bdcb00df478cf793edd6687) ===\n",
      "Saved pairDayData -> C:\\Users\\jazzn\\Downloads\\thesis\\ssrn-3984897-replication\\data\\raw\\uniswap_v2\\pair_day_data\\KNC-ETH.parquet\n",
      "[DONE] KNC-ETH\n",
      "\n",
      "=== REP-ETH (0x8979a3ef9d540480342ac0f56e9d4c88807b1cba) ===\n",
      "Saved pairDayData -> C:\\Users\\jazzn\\Downloads\\thesis\\ssrn-3984897-replication\\data\\raw\\uniswap_v2\\pair_day_data\\REP-ETH.parquet\n",
      "[DONE] REP-ETH\n",
      "\n",
      "=== SNX-ETH (0x43ae24960e5534731fc831386c07755a2dc33d47) ===\n",
      "Saved pairDayData -> C:\\Users\\jazzn\\Downloads\\thesis\\ssrn-3984897-replication\\data\\raw\\uniswap_v2\\pair_day_data\\SNX-ETH.parquet\n",
      "[DONE] SNX-ETH\n",
      "\n",
      "=== STORJ-ETH (0xaef16913b6c50ebcf627a394921f306985fc8604) ===\n",
      "Saved pairDayData -> C:\\Users\\jazzn\\Downloads\\thesis\\ssrn-3984897-replication\\data\\raw\\uniswap_v2\\pair_day_data\\STORJ-ETH.parquet\n",
      "[DONE] STORJ-ETH\n",
      "\n",
      "=== UNI-ETH (0xd3d2e2692501a5c9ca623199d38826e513033a17) ===\n",
      "Saved pairDayData -> C:\\Users\\jazzn\\Downloads\\thesis\\ssrn-3984897-replication\\data\\raw\\uniswap_v2\\pair_day_data\\UNI-ETH.parquet\n",
      "[DONE] UNI-ETH\n",
      "\n",
      "=== OMG-ETH (0x48e313460dd00100e22230e56e0a87b394066844) ===\n",
      "Saved pairDayData -> C:\\Users\\jazzn\\Downloads\\thesis\\ssrn-3984897-replication\\data\\raw\\uniswap_v2\\pair_day_data\\OMG-ETH.parquet\n",
      "[DONE] OMG-ETH\n"
     ]
    }
   ],
   "source": [
    "# All pairs, full window\n",
    "run_uniswap_v2_extract_daily()"
   ]
  }
 ],
 "metadata": {
  "kernelspec": {
   "display_name": "Python (mscqf-rep)",
   "language": "python",
   "name": "mscqf-rep"
  },
  "language_info": {
   "codemirror_mode": {
    "name": "ipython",
    "version": 3
   },
   "file_extension": ".py",
   "mimetype": "text/x-python",
   "name": "python",
   "nbconvert_exporter": "python",
   "pygments_lexer": "ipython3",
   "version": "3.11.13"
  }
 },
 "nbformat": 4,
 "nbformat_minor": 5
}
