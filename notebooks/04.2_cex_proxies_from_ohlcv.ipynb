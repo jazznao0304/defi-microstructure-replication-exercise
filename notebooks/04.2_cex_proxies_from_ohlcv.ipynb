{
 "cells": [
  {
   "cell_type": "code",
   "execution_count": 1,
   "id": "2ae42a0a-ab35-44ef-a645-6e89fe6f30a9",
   "metadata": {},
   "outputs": [],
   "source": [
    "# setup\n",
    "%load_ext autoreload\n",
    "%autoreload 2\n",
    "import os, sys, datetime as dt\n",
    "sys.path.append(os.path.abspath(\"../src\"))\n",
    "\n",
    "from replication.cex_proxies_from_ohlcv import run_cex_proxies_from_ohlcv, ProxyTask"
   ]
  },
  {
   "cell_type": "code",
   "execution_count": 2,
   "id": "8c00c9b2-6313-4691-bd51-36e132041fa2",
   "metadata": {},
   "outputs": [
    {
     "data": {
      "text/plain": [
       "'\\n# ETH-USDC and ETH-USDT, full window (daily CEX proxies)\\nrun_cex_proxies_from_ohlcv(\\n    ProxyTask(\\n        exchanges=[\"binance\",\"coinbase\",\"kraken\",\"okx\",\"huobi\"],\\n        symbols=[\"ETH/USDC\",\"ETH/USDT\"],\\n        timeframe=\"1d\"\\n    )\\n)\\n'"
      ]
     },
     "execution_count": 2,
     "metadata": {},
     "output_type": "execute_result"
    }
   ],
   "source": [
    "\"\"\"\n",
    "# ETH-USDC and ETH-USDT, full window (daily CEX proxies)\n",
    "run_cex_proxies_from_ohlcv(\n",
    "    ProxyTask(\n",
    "        exchanges=[\"binance\",\"coinbase\",\"kraken\",\"okx\",\"huobi\"],\n",
    "        symbols=[\"ETH/USDC\",\"ETH/USDT\"],\n",
    "        timeframe=\"1d\"\n",
    "    )\n",
    ")\n",
    "\"\"\""
   ]
  },
  {
   "cell_type": "code",
   "execution_count": 3,
   "id": "0d004b6a-30ae-47dc-ba02-e444852b47f7",
   "metadata": {},
   "outputs": [
    {
     "data": {
      "text/plain": [
       "\"\\n# All pairs, one week's worth (uses whatever raw OHLCV exists in that window)\\n# Proxies are rolling; expect warm-up NaNs for CHL/Roll.\\nSTART = int(dt.datetime(2021, 5, 1, tzinfo=dt.timezone.utc).timestamp())\\nEND   = int(dt.datetime(2021, 5, 8, tzinfo=dt.timezone.utc).timestamp())\\n# (Proxies module reads already-downloaded OHLCV; collection window is set in raw step.)\\n\""
      ]
     },
     "execution_count": 3,
     "metadata": {},
     "output_type": "execute_result"
    }
   ],
   "source": [
    "\"\"\"\n",
    "# All pairs, one week's worth (uses whatever raw OHLCV exists in that window)\n",
    "# Proxies are rolling; expect warm-up NaNs for CHL/Roll.\n",
    "START = int(dt.datetime(2021, 5, 1, tzinfo=dt.timezone.utc).timestamp())\n",
    "END   = int(dt.datetime(2021, 5, 8, tzinfo=dt.timezone.utc).timestamp())\n",
    "# (Proxies module reads already-downloaded OHLCV; collection window is set in raw step.)\n",
    "\"\"\""
   ]
  },
  {
   "cell_type": "code",
   "execution_count": 4,
   "id": "fea5eabb-87ec-4784-88e5-12fdf32f3d64",
   "metadata": {},
   "outputs": [
    {
     "name": "stdout",
     "output_type": "stream",
     "text": [
      "[OK] binance:AAVE/ETH -> C:\\Users\\jazzn\\Downloads\\thesis\\ssrn-3984897-replication\\data\\interim\\cex\\proxies\\binance\\AAVE-ETH_proxies.parquet\n",
      "[OK] binance:BAT/ETH -> C:\\Users\\jazzn\\Downloads\\thesis\\ssrn-3984897-replication\\data\\interim\\cex\\proxies\\binance\\BAT-ETH_proxies.parquet\n",
      "[OK] binance:BTC/DAI -> C:\\Users\\jazzn\\Downloads\\thesis\\ssrn-3984897-replication\\data\\interim\\cex\\proxies\\binance\\BTC-DAI_proxies.parquet\n",
      "[OK] binance:BTC/USDC -> C:\\Users\\jazzn\\Downloads\\thesis\\ssrn-3984897-replication\\data\\interim\\cex\\proxies\\binance\\BTC-USDC_proxies.parquet\n",
      "[OK] binance:CRV/ETH -> C:\\Users\\jazzn\\Downloads\\thesis\\ssrn-3984897-replication\\data\\interim\\cex\\proxies\\binance\\CRV-ETH_proxies.parquet\n",
      "[OK] binance:ETH/USDC -> C:\\Users\\jazzn\\Downloads\\thesis\\ssrn-3984897-replication\\data\\interim\\cex\\proxies\\binance\\ETH-USDC_proxies.parquet\n",
      "[OK] binance:ETH/USDT -> C:\\Users\\jazzn\\Downloads\\thesis\\ssrn-3984897-replication\\data\\interim\\cex\\proxies\\binance\\ETH-USDT_proxies.parquet\n",
      "[OK] binance:GRT/ETH -> C:\\Users\\jazzn\\Downloads\\thesis\\ssrn-3984897-replication\\data\\interim\\cex\\proxies\\binance\\GRT-ETH_proxies.parquet\n",
      "[OK] binance:KNC/ETH -> C:\\Users\\jazzn\\Downloads\\thesis\\ssrn-3984897-replication\\data\\interim\\cex\\proxies\\binance\\KNC-ETH_proxies.parquet\n",
      "[OK] binance:LINK/ETH -> C:\\Users\\jazzn\\Downloads\\thesis\\ssrn-3984897-replication\\data\\interim\\cex\\proxies\\binance\\LINK-ETH_proxies.parquet\n",
      "[OK] binance:MANA/ETH -> C:\\Users\\jazzn\\Downloads\\thesis\\ssrn-3984897-replication\\data\\interim\\cex\\proxies\\binance\\MANA-ETH_proxies.parquet\n",
      "[OK] binance:OMG/ETH -> C:\\Users\\jazzn\\Downloads\\thesis\\ssrn-3984897-replication\\data\\interim\\cex\\proxies\\binance\\OMG-ETH_proxies.parquet\n",
      "[OK] binance:SNX/ETH -> C:\\Users\\jazzn\\Downloads\\thesis\\ssrn-3984897-replication\\data\\interim\\cex\\proxies\\binance\\SNX-ETH_proxies.parquet\n",
      "[OK] binance:UNI/ETH -> C:\\Users\\jazzn\\Downloads\\thesis\\ssrn-3984897-replication\\data\\interim\\cex\\proxies\\binance\\UNI-ETH_proxies.parquet\n",
      "[OK] binance:USDC/USDT -> C:\\Users\\jazzn\\Downloads\\thesis\\ssrn-3984897-replication\\data\\interim\\cex\\proxies\\binance\\USDC-USDT_proxies.parquet\n",
      "[OK] coinbase:BAT/ETH -> C:\\Users\\jazzn\\Downloads\\thesis\\ssrn-3984897-replication\\data\\interim\\cex\\proxies\\coinbase\\BAT-ETH_proxies.parquet\n",
      "[OK] coinbase:BTC/USDC -> C:\\Users\\jazzn\\Downloads\\thesis\\ssrn-3984897-replication\\data\\interim\\cex\\proxies\\coinbase\\BTC-USDC_proxies.parquet\n",
      "[OK] coinbase:ETH/USDC -> C:\\Users\\jazzn\\Downloads\\thesis\\ssrn-3984897-replication\\data\\interim\\cex\\proxies\\coinbase\\ETH-USDC_proxies.parquet\n",
      "[OK] coinbase:ETH/USDT -> C:\\Users\\jazzn\\Downloads\\thesis\\ssrn-3984897-replication\\data\\interim\\cex\\proxies\\coinbase\\ETH-USDT_proxies.parquet\n",
      "[OK] coinbase:LINK/ETH -> C:\\Users\\jazzn\\Downloads\\thesis\\ssrn-3984897-replication\\data\\interim\\cex\\proxies\\coinbase\\LINK-ETH_proxies.parquet\n",
      "[OK] coinbase:MANA/ETH -> C:\\Users\\jazzn\\Downloads\\thesis\\ssrn-3984897-replication\\data\\interim\\cex\\proxies\\coinbase\\MANA-ETH_proxies.parquet\n",
      "[INFO] no OHLCV files for kraken (1d).\n",
      "[OK] okx:DAI/USDT -> C:\\Users\\jazzn\\Downloads\\thesis\\ssrn-3984897-replication\\data\\interim\\cex\\proxies\\okx\\DAI-USDT_proxies.parquet\n",
      "[OK] okx:ETH/USDT -> C:\\Users\\jazzn\\Downloads\\thesis\\ssrn-3984897-replication\\data\\interim\\cex\\proxies\\okx\\ETH-USDT_proxies.parquet\n",
      "[OK] okx:USDC/USDT -> C:\\Users\\jazzn\\Downloads\\thesis\\ssrn-3984897-replication\\data\\interim\\cex\\proxies\\okx\\USDC-USDT_proxies.parquet\n",
      "[INFO] no OHLCV files for huobi (1d).\n"
     ]
    }
   ],
   "source": [
    "# All pairs, full window\n",
    "run_cex_proxies_from_ohlcv(\n",
    "    ProxyTask(\n",
    "        exchanges=[\"binance\",\"coinbase\",\"kraken\",\"okx\",\"huobi\"],\n",
    "        timeframe=\"1d\"\n",
    "    )\n",
    ")"
   ]
  }
 ],
 "metadata": {
  "kernelspec": {
   "display_name": "Python (mscqf-rep)",
   "language": "python",
   "name": "mscqf-rep"
  },
  "language_info": {
   "codemirror_mode": {
    "name": "ipython",
    "version": 3
   },
   "file_extension": ".py",
   "mimetype": "text/x-python",
   "name": "python",
   "nbconvert_exporter": "python",
   "pygments_lexer": "ipython3",
   "version": "3.11.13"
  }
 },
 "nbformat": 4,
 "nbformat_minor": 5
}
