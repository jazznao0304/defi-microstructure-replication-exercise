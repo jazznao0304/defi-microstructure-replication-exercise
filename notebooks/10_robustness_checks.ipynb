{
 "cells": [
  {
   "cell_type": "code",
   "execution_count": 1,
   "id": "2b0370d5-7e99-4f2c-937d-4b44732451b2",
   "metadata": {},
   "outputs": [
    {
     "name": "stdout",
     "output_type": "stream",
     "text": [
      "[load] features: True | panel: True | panel_agg: True\n",
      "[features] rows=67,910  dates=2021-03-01→2023-02-28  labels=20\n"
     ]
    }
   ],
   "source": [
    "# =========================\n",
    "# Setup\n",
    "# =========================\n",
    "from pathlib import Path\n",
    "import datetime as dt\n",
    "import numpy as np\n",
    "import pandas as pd\n",
    "import matplotlib.pyplot as plt\n",
    "import statsmodels.formula.api as smf\n",
    "\n",
    "pd.set_option(\"display.width\", 160)\n",
    "pd.set_option(\"display.max_columns\", 80)\n",
    "\n",
    "ROOT = Path(\"..\")\n",
    "DATA = ROOT / \"data\"\n",
    "\n",
    "# Inputs\n",
    "FEAT_PATH   = DATA / \"processed\" / \"features\" / \"daily_features.parquet\"\n",
    "PANEL_PATH  = DATA / \"processed\" / \"compare\" / \"daily_panel.parquet\"   # detailed panel (with fee tiers)\n",
    "PANEL_AGG   = DATA / \"processed\" / \"compare\" / \"daily_panel_agg.parquet\"\n",
    "\n",
    "# Outputs\n",
    "TAB_DIR = ROOT / \"reports\" / \"tables\" / \"robustness\"\n",
    "FIG_DIR = ROOT / \"reports\" / \"figures\" / \"robustness\"\n",
    "MOD_DIR = ROOT / \"reports\" / \"models\" / \"robustness\"\n",
    "for d in [TAB_DIR, FIG_DIR, MOD_DIR]:\n",
    "    d.mkdir(parents=True, exist_ok=True)\n",
    "\n",
    "# Events\n",
    "EVENT_V3_LAUNCH = dt.date(2021, 5, 5)\n",
    "EVENT_FTX       = dt.date(2022, 11, 10)\n",
    "\n",
    "# Matplotlib defaults\n",
    "plt.rcParams[\"figure.figsize\"] = (10, 5)\n",
    "plt.rcParams[\"axes.grid\"] = True\n",
    "\n",
    "def savefig(name: str, exts=(\"png\",\"svg\")):\n",
    "    fig = plt.gcf()\n",
    "    fig.tight_layout()\n",
    "    for ext in exts:\n",
    "        fig.savefig(FIG_DIR / f\"{name}.{ext}\", dpi=150 if ext.lower()==\"png\" else None, bbox_inches=\"tight\")\n",
    "\n",
    "\n",
    "print(f\"[load] features: {FEAT_PATH.exists()} | panel: {PANEL_PATH.exists()} | panel_agg: {PANEL_AGG.exists()}\")\n",
    "df = pd.read_parquet(FEAT_PATH)\n",
    "print(f\"[features] rows={len(df):,}  dates={df['date'].min()}→{df['date'].max()}  labels={df['label'].nunique()}\")"
   ]
  },
  {
   "cell_type": "code",
   "execution_count": 2,
   "id": "c162eb34-34e9-44f1-9b0a-6a0de49c0b4c",
   "metadata": {},
   "outputs": [],
   "source": [
    "# =========================\n",
    "# Helpers\n",
    "# =========================\n",
    "\n",
    "def winsorize(s: pd.Series, p: float = 0.01) -> pd.Series:\n",
    "    \"\"\"Two-sided winsorization at p and 1-p percentiles (ignores NaN).\"\"\"\n",
    "    if s.dropna().empty:\n",
    "        return s\n",
    "    lo, hi = s.quantile(p), s.quantile(1 - p)\n",
    "    return s.clip(lower=lo, upper=hi)\n",
    "\n",
    "def fit_twfe(formula: str, data: pd.DataFrame, name: str, cluster_col: str = \"label\"):\n",
    "    \"\"\"\n",
    "    OLS with two-way FE via categorical dummies (C(label)+C(date)).\n",
    "    Cluster-robust SEs by cluster_col. Writes *_summary.txt and *_coefs.parquet.\n",
    "    Returns (res, coefs_df).\n",
    "    \"\"\"\n",
    "    # Minimal NA drop just for variables present in formula\n",
    "    terms = []\n",
    "    lhs, rhs = formula.split(\"~\")\n",
    "    terms.extend([lhs.strip()])\n",
    "    # parse RHS quickly (split on + and : and *; keep token-like pieces)\n",
    "    rhs_vars = [t.strip() for t in rhs.replace(\"*\",\" + \").replace(\":\",\" + \").split(\"+\")]\n",
    "    rhs_vars = [t for t in rhs_vars if t and not t.startswith(\"C(\")]\n",
    "    rhs_vars = [t.split(\"(\")[-1].split(\")\")[0] if t.startswith(\"C(\") else t for t in rhs_vars]\n",
    "    # clean categorical constructs\n",
    "    rhs_vars = [t for t in rhs_vars if t not in [\"1\"]]\n",
    "    use_cols = sorted({t for t in rhs_vars if t.isidentifier()} | {lhs.strip()})\n",
    "    d = data.dropna(subset=[c for c in use_cols if c in data.columns]).copy()\n",
    "    if d.empty:\n",
    "        raise ValueError(f\"[{name}] no rows after NA-drop for: {use_cols}\")\n",
    "\n",
    "    model = smf.ols(formula, data=d)\n",
    "    res = model.fit(cov_type=\"cluster\", cov_kwds={\"groups\": d[cluster_col]})\n",
    "    coefs = (\n",
    "        pd.DataFrame({\"term\": res.params.index,\n",
    "                      \"estimate\": res.params.values,\n",
    "                      \"std_err\": res.bse.values,\n",
    "                      \"t\": res.tvalues,\n",
    "                      \"p\": res.pvalues})\n",
    "        .assign(model=name, nobs=int(res.nobs), r2=float(res.rsquared))\n",
    "    )\n",
    "    # Save\n",
    "    coefs.to_parquet(MOD_DIR / f\"{name}_coefs.parquet\", index=False)\n",
    "    with open(TAB_DIR / f\"{name}_summary.txt\", \"w\", encoding=\"utf-8\") as f:\n",
    "        f.write(res.summary().as_text())\n",
    "    print(f\"[OK] {name}  n={int(res.nobs)}  R2={res.rsquared:.3f}  → {name}_coefs.parquet, {name}_summary.txt\")\n",
    "    return res, coefs"
   ]
  },
  {
   "cell_type": "code",
   "execution_count": 3,
   "id": "57813384-a2fa-4c21-95c4-ca4c34308b36",
   "metadata": {},
   "outputs": [
    {
     "name": "stdout",
     "output_type": "stream",
     "text": [
      "[subset] DEX rows=52,093 | CEX rows=15,817\n"
     ]
    }
   ],
   "source": [
    "# =========================\n",
    "# Baseline variables & subsets\n",
    "# =========================\n",
    "# Ensure numeric casts\n",
    "for c in [\"volumeUSD\", \"log_volumeUSD\", \"ret\", \"abs_ret\", \"v3_share_filled\", \"eth_median_effective_gas_price_gwei\"]:\n",
    "    if c in df.columns:\n",
    "        df[c] = pd.to_numeric(df[c], errors=\"coerce\")\n",
    "\n",
    "dex = df.loc[df[\"venue_type\"] == \"DEX\"].copy()\n",
    "cex = df.loc[df[\"venue_type\"] == \"CEX\"].copy()\n",
    "\n",
    "print(f\"[subset] DEX rows={len(dex):,} | CEX rows={len(cex):,}\")"
   ]
  },
  {
   "cell_type": "code",
   "execution_count": 4,
   "id": "958ee133-cc4b-4a94-97ac-07023ebb3ed1",
   "metadata": {},
   "outputs": [
    {
     "name": "stderr",
     "output_type": "stream",
     "text": [
      "C:\\Users\\jazzn\\anaconda3\\envs\\mscqf-rep\\Lib\\site-packages\\statsmodels\\base\\model.py:1894: ValueWarning: covariance of constraints does not have full rank. The number of constraints is 750, but rank is 20\n",
      "  warnings.warn('covariance of constraints does not have full '\n"
     ]
    },
    {
     "name": "stdout",
     "output_type": "stream",
     "text": [
      "[OK] rob_winsor_fe_logvol_v3share_dex  n=39987  R2=0.354  → rob_winsor_fe_logvol_v3share_dex_coefs.parquet, rob_winsor_fe_logvol_v3share_dex_summary.txt\n"
     ]
    },
    {
     "name": "stderr",
     "output_type": "stream",
     "text": [
      "C:\\Users\\jazzn\\anaconda3\\envs\\mscqf-rep\\Lib\\site-packages\\statsmodels\\base\\model.py:1894: ValueWarning: covariance of constraints does not have full rank. The number of constraints is 746, but rank is 15\n",
      "  warnings.warn('covariance of constraints does not have full '\n"
     ]
    },
    {
     "name": "stdout",
     "output_type": "stream",
     "text": [
      "[OK] rob_winsor_fe_absret_v3share_cex  n=15766  R2=0.396  → rob_winsor_fe_absret_v3share_cex_coefs.parquet, rob_winsor_fe_absret_v3share_cex_summary.txt\n"
     ]
    }
   ],
   "source": [
    "# =========================\n",
    "# 1) Winsorization robustness\n",
    "# =========================\n",
    "# Re-run two core FE specs using winsorized regressors/outcomes.\n",
    "\n",
    "df_w = df.copy()\n",
    "if \"log_volumeUSD\" in df_w.columns:\n",
    "    # winsorize raw volume then re-log to avoid negative/zero problems\n",
    "    if \"volumeUSD\" in df_w.columns:\n",
    "        v = df_w[\"volumeUSD\"]\n",
    "        v_w = winsorize(v, 0.01)\n",
    "        df_w[\"log_volumeUSD_w\"] = np.log(np.where(v_w > 0, v_w, np.nan))\n",
    "    else:\n",
    "        df_w[\"log_volumeUSD_w\"] = winsorize(df_w[\"log_volumeUSD\"], 0.01)\n",
    "if \"abs_ret\" in df_w.columns:\n",
    "    df_w[\"abs_ret_w\"] = winsorize(df_w[\"abs_ret\"], 0.01)\n",
    "if \"eth_median_effective_gas_price_gwei\" in df_w.columns:\n",
    "    df_w[\"gas_w\"] = winsorize(df_w[\"eth_median_effective_gas_price_gwei\"], 0.01)\n",
    "\n",
    "# A1 winsorized: DEX log volume on v3_share_filled + gas\n",
    "if {\"log_volumeUSD_w\",\"v3_share_filled\",\"eth_median_effective_gas_price_gwei\",\"label\",\"date\"}.issubset(df_w.columns):\n",
    "    d = df_w.loc[df_w[\"venue_type\"]==\"DEX\"].copy()\n",
    "    res1, _ = fit_twfe(\n",
    "        \"log_volumeUSD_w ~ v3_share_filled + gas_w + C(label) + C(date)\",\n",
    "        d, \"rob_winsor_fe_logvol_v3share_dex\"\n",
    "    )\n",
    "\n",
    "# A2 winsorized: CEX |ret| on v3_share_filled + gas\n",
    "if {\"abs_ret_w\",\"v3_share_filled\",\"eth_median_effective_gas_price_gwei\",\"label\",\"date\"}.issubset(df_w.columns):\n",
    "    d = df_w.loc[df_w[\"venue_type\"]==\"CEX\"].copy()\n",
    "    res2, _ = fit_twfe(\n",
    "        \"abs_ret_w ~ v3_share_filled + gas_w + C(label) + C(date)\",\n",
    "        d, \"rob_winsor_fe_absret_v3share_cex\"\n",
    "    )"
   ]
  },
  {
   "cell_type": "code",
   "execution_count": 5,
   "id": "ec7f343e-2608-42ab-9ff0-0304cc9230fc",
   "metadata": {},
   "outputs": [
    {
     "name": "stderr",
     "output_type": "stream",
     "text": [
      "C:\\Users\\jazzn\\anaconda3\\envs\\mscqf-rep\\Lib\\site-packages\\statsmodels\\base\\model.py:1894: ValueWarning: covariance of constraints does not have full rank. The number of constraints is 125, but rank is 19\n",
      "  warnings.warn('covariance of constraints does not have full '\n"
     ]
    },
    {
     "name": "stdout",
     "output_type": "stream",
     "text": [
      "[OK] rob_gaslog_fe_logvol_v3share_dex  n=39987  R2=0.348  → rob_gaslog_fe_logvol_v3share_dex_coefs.parquet, rob_gaslog_fe_logvol_v3share_dex_summary.txt\n",
      "[OK] rob_gasplus_fe_logvol_v3share_dex  n=39987  R2=0.348  → rob_gasplus_fe_logvol_v3share_dex_coefs.parquet, rob_gasplus_fe_logvol_v3share_dex_summary.txt\n"
     ]
    },
    {
     "name": "stderr",
     "output_type": "stream",
     "text": [
      "C:\\Users\\jazzn\\anaconda3\\envs\\mscqf-rep\\Lib\\site-packages\\statsmodels\\base\\model.py:1894: ValueWarning: covariance of constraints does not have full rank. The number of constraints is 127, but rank is 19\n",
      "  warnings.warn('covariance of constraints does not have full '\n"
     ]
    }
   ],
   "source": [
    "# =========================\n",
    "# 2) Alternative gas controls\n",
    "#    (log(gas), add block counts, txs)\n",
    "#    NOTE: Use weekly time FE (C(week)) to avoid perfect collinearity\n",
    "#          between day FE and ETH-wide daily gas measures.\n",
    "# =========================\n",
    "d_alt = df.copy()\n",
    "\n",
    "# Convenience weekly period for time FE when including day-invariant gas\n",
    "d_alt[\"week\"] = pd.to_datetime(d_alt[\"date\"]).dt.to_period(\"W\").astype(str)\n",
    "\n",
    "if \"eth_median_effective_gas_price_gwei\" in d_alt.columns:\n",
    "    # Safe log (zeros -> NaN)\n",
    "    d_alt[\"log_gas\"] = np.log(d_alt[\"eth_median_effective_gas_price_gwei\"].replace({0: np.nan}))\n",
    "\n",
    "# DEX volume ~ v3_share + log(gas) + FEs (weekly FE to identify gas)\n",
    "need = {\"log_volumeUSD\",\"v3_share_filled\",\"log_gas\",\"label\",\"week\",\"venue_type\"}\n",
    "if need.issubset(d_alt.columns):\n",
    "    d = d_alt.loc[d_alt[\"venue_type\"]==\"DEX\"].copy()\n",
    "    fit_twfe(\"log_volumeUSD ~ v3_share_filled + log_gas + C(label) + C(week)\",\n",
    "             d, \"rob_gaslog_fe_logvol_v3share_dex\")\n",
    "\n",
    "# DEX volume ~ v3_share + gas + blocks + txs + FEs (weekly FE to identify day-level regressors)\n",
    "need2 = {\"log_volumeUSD\",\"v3_share_filled\",\"eth_median_effective_gas_price_gwei\",\n",
    "         \"eth_n_blocks\",\"eth_n_txs\",\"label\",\"week\",\"venue_type\"}\n",
    "if need2.issubset(d_alt.columns):\n",
    "    d = d_alt.loc[d_alt[\"venue_type\"]==\"DEX\"].copy()\n",
    "    fit_twfe(\"log_volumeUSD ~ v3_share_filled + eth_median_effective_gas_price_gwei + eth_n_blocks + eth_n_txs + C(label) + C(week)\",\n",
    "             d,\"rob_gasplus_fe_logvol_v3share_dex\")"
   ]
  },
  {
   "cell_type": "code",
   "execution_count": 6,
   "id": "219bd012-1694-424f-b269-10f2b906b5d3",
   "metadata": {},
   "outputs": [
    {
     "name": "stderr",
     "output_type": "stream",
     "text": [
      "C:\\Users\\jazzn\\anaconda3\\envs\\mscqf-rep\\Lib\\site-packages\\statsmodels\\base\\model.py:1894: ValueWarning: covariance of constraints does not have full rank. The number of constraints is 744, but rank is 14\n",
      "  warnings.warn('covariance of constraints does not have full '\n"
     ]
    },
    {
     "name": "stdout",
     "output_type": "stream",
     "text": [
      "[OK] rob_excl_fe_logvol_v3share_dex  n=30777  R2=0.297  → rob_excl_fe_logvol_v3share_dex_coefs.parquet, rob_excl_fe_logvol_v3share_dex_summary.txt\n"
     ]
    }
   ],
   "source": [
    "# =========================\n",
    "# 3) Exclusions: remove stable pairs / thin pairs\n",
    "# =========================\n",
    "stable_labels = {\"USDC-USDT\",\"DAI-USDT\"}  # extend if needed\n",
    "\n",
    "# Drop stables\n",
    "d_no_stable = df.loc[~df[\"label\"].isin(stable_labels)].copy()\n",
    "\n",
    "# Drop thin pairs (bottom 20% by median DEX volume)\n",
    "if {\"label\",\"venue_type\",\"volumeUSD\"}.issubset(df.columns):\n",
    "    med_vol = (df.loc[df[\"venue_type\"]==\"DEX\"]\n",
    "                 .groupby(\"label\")[\"volumeUSD\"].median().dropna())\n",
    "    cutoff = med_vol.quantile(0.20)\n",
    "    thin = set(med_vol.index[med_vol < cutoff])\n",
    "else:\n",
    "    thin = set()\n",
    "\n",
    "d_no_thin = df.loc[~df[\"label\"].isin(thin)].copy()\n",
    "d_no_stable_thin = d_no_stable.loc[~d_no_stable[\"label\"].isin(thin)].copy()\n",
    "\n",
    "# Re-run A1 on d_no_stable_thin\n",
    "need = {\"log_volumeUSD\",\"v3_share_filled\",\"eth_median_effective_gas_price_gwei\",\"label\",\"date\"}\n",
    "if need.issubset(d_no_stable_thin.columns):\n",
    "    d = d_no_stable_thin.loc[d_no_stable_thin[\"venue_type\"]==\"DEX\"].copy()\n",
    "    fit_twfe(\"log_volumeUSD ~ v3_share_filled + eth_median_effective_gas_price_gwei + C(label) + C(date)\",\n",
    "             d, \"rob_excl_fe_logvol_v3share_dex\")"
   ]
  },
  {
   "cell_type": "code",
   "execution_count": 7,
   "id": "16413fdf-08ea-4556-9cfe-20ee01acce38",
   "metadata": {},
   "outputs": [
    {
     "name": "stderr",
     "output_type": "stream",
     "text": [
      "C:\\Users\\jazzn\\anaconda3\\envs\\mscqf-rep\\Lib\\site-packages\\statsmodels\\base\\model.py:1894: ValueWarning: covariance of constraints does not have full rank. The number of constraints is 750, but rank is 20\n",
      "  warnings.warn('covariance of constraints does not have full '\n"
     ]
    },
    {
     "name": "stdout",
     "output_type": "stream",
     "text": [
      "[OK] rob_v3ex100_fe_logvol_dex  n=39979  R2=0.352  → rob_v3ex100_fe_logvol_dex_coefs.parquet, rob_v3ex100_fe_logvol_dex_summary.txt\n"
     ]
    }
   ],
   "source": [
    "# =========================\n",
    "# 4) Alternative v3 aggregation (exclude 100 bps pool)\n",
    "#    Recompute v3_share_ex_fee100 from detailed panel.\n",
    "# =========================\n",
    "if PANEL_PATH.exists():\n",
    "    panel = pd.read_parquet(PANEL_PATH)\n",
    "    # keep DEX rows and build per-(label,date) aggregates\n",
    "    dex_panel = panel.loc[panel[\"venue_type\"]==\"DEX\", [\"label\",\"date\",\"venue\",\"volumeUSD\"]].copy()\n",
    "    # total DEX vol\n",
    "    total = (dex_panel.groupby([\"label\",\"date\"], as_index=False)\n",
    "                      .agg(dex_total=(\"volumeUSD\",\"sum\")))\n",
    "    # v3 vol excluding fee100\n",
    "    is_v3 = dex_panel[\"venue\"].str.startswith(\"uniswap_v3\", na=False)\n",
    "    is_fee100 = dex_panel[\"venue\"].str.contains(\"fee100\", na=False)\n",
    "    v3_ex = (dex_panel.loc[is_v3 & ~is_fee100]\n",
    "                     .groupby([\"label\",\"date\"], as_index=False)\n",
    "                     .agg(v3_excl100=(\"volumeUSD\",\"sum\")))\n",
    "    alt = total.merge(v3_ex, on=[\"label\",\"date\"], how=\"left\").fillna({\"v3_excl100\":0.0})\n",
    "    with np.errstate(divide=\"ignore\", invalid=\"ignore\"):\n",
    "        alt[\"v3_share_excl100\"] = np.where(alt[\"dex_total\"]>0, alt[\"v3_excl100\"]/alt[\"dex_total\"], np.nan)\n",
    "\n",
    "    # Merge onto features\n",
    "    d_altv3 = df.merge(alt[[\"label\",\"date\",\"v3_share_excl100\"]], on=[\"label\",\"date\"], how=\"left\")\n",
    "\n",
    "    # Run A1 with alt v3 share (DEX only)\n",
    "    need = {\"log_volumeUSD\",\"v3_share_excl100\",\"eth_median_effective_gas_price_gwei\",\"label\",\"date\",\"venue_type\"}\n",
    "    if need.issubset(d_altv3.columns):\n",
    "        d = d_altv3.loc[d_altv3[\"venue_type\"]==\"DEX\"].copy()\n",
    "        fit_twfe(\"log_volumeUSD ~ v3_share_excl100 + eth_median_effective_gas_price_gwei + C(label) + C(date)\",\n",
    "                 d, \"rob_v3ex100_fe_logvol_dex\")"
   ]
  },
  {
   "cell_type": "code",
   "execution_count": 8,
   "id": "e8a75603-b854-4518-bca0-39b89322cdda",
   "metadata": {},
   "outputs": [
    {
     "name": "stderr",
     "output_type": "stream",
     "text": [
      "C:\\Users\\jazzn\\anaconda3\\envs\\mscqf-rep\\Lib\\site-packages\\statsmodels\\base\\model.py:1894: ValueWarning: covariance of constraints does not have full rank. The number of constraints is 752, but rank is 19\n",
      "  warnings.warn('covariance of constraints does not have full '\n"
     ]
    },
    {
     "name": "stdout",
     "output_type": "stream",
     "text": [
      "[OK] rob_placebo_did_logvol  n=55804  R2=0.494  → rob_placebo_did_logvol_coefs.parquet, rob_placebo_did_logvol_summary.txt\n"
     ]
    }
   ],
   "source": [
    "# =========================\n",
    "# 5) Placebo DiD (pre-period fake event)\n",
    "#    log(volume) ~ is_dex * post_fake + gas + FE(label,date)\n",
    "# =========================\n",
    "fake_event = dt.date(2021, 4, 1)  # safely pre v3 launch\n",
    "\n",
    "d_placebo = df.copy()\n",
    "# Ensure datetime type for robust comparisons\n",
    "d_placebo[\"date\"] = pd.to_datetime(d_placebo[\"date\"])\n",
    "\n",
    "d_placebo[\"is_dex\"] = (d_placebo[\"venue_type\"] == \"DEX\").astype(int)\n",
    "d_placebo[\"post_fake\"] = (d_placebo[\"date\"] >= pd.Timestamp(fake_event)).astype(int)\n",
    "\n",
    "need = {\"log_volumeUSD\", \"is_dex\", \"post_fake\", \"eth_median_effective_gas_price_gwei\", \"label\", \"date\"}\n",
    "if need.issubset(d_placebo.columns) and not d_placebo.dropna(subset=list(need)).empty:\n",
    "    formula = \"log_volumeUSD ~ is_dex*post_fake + eth_median_effective_gas_price_gwei + C(label) + C(date)\"\n",
    "    fit_twfe(formula, d_placebo, \"rob_placebo_did_logvol\", cluster_col=\"label\")\n",
    "else:\n",
    "    print(\"[skip] rob_placebo_did_logvol: missing vars or empty after NA drop.\")"
   ]
  },
  {
   "cell_type": "code",
   "execution_count": 9,
   "id": "0a6902a8-7632-4013-9480-11580b12926f",
   "metadata": {},
   "outputs": [
    {
     "data": {
      "text/html": [
       "<div>\n",
       "<style scoped>\n",
       "    .dataframe tbody tr th:only-of-type {\n",
       "        vertical-align: middle;\n",
       "    }\n",
       "\n",
       "    .dataframe tbody tr th {\n",
       "        vertical-align: top;\n",
       "    }\n",
       "\n",
       "    .dataframe thead th {\n",
       "        text-align: right;\n",
       "    }\n",
       "</style>\n",
       "<table border=\"1\" class=\"dataframe\">\n",
       "  <thead>\n",
       "    <tr style=\"text-align: right;\">\n",
       "      <th></th>\n",
       "      <th>model</th>\n",
       "      <th>term</th>\n",
       "      <th>estimate</th>\n",
       "      <th>std_err</th>\n",
       "      <th>p</th>\n",
       "      <th>nobs</th>\n",
       "      <th>r2</th>\n",
       "    </tr>\n",
       "  </thead>\n",
       "  <tbody>\n",
       "    <tr>\n",
       "      <th>4</th>\n",
       "      <td>rob_excl_fe_logvol_v3share_dex</td>\n",
       "      <td>v3_share_filled</td>\n",
       "      <td>1.037380</td>\n",
       "      <td>0.472256</td>\n",
       "      <td>0.028046</td>\n",
       "      <td>30777</td>\n",
       "      <td>0.297412</td>\n",
       "    </tr>\n",
       "    <tr>\n",
       "      <th>2</th>\n",
       "      <td>rob_gaslog_fe_logvol_v3share_dex</td>\n",
       "      <td>v3_share_filled</td>\n",
       "      <td>1.211408</td>\n",
       "      <td>0.346575</td>\n",
       "      <td>0.000473</td>\n",
       "      <td>39987</td>\n",
       "      <td>0.348447</td>\n",
       "    </tr>\n",
       "    <tr>\n",
       "      <th>3</th>\n",
       "      <td>rob_gasplus_fe_logvol_v3share_dex</td>\n",
       "      <td>v3_share_filled</td>\n",
       "      <td>1.215036</td>\n",
       "      <td>0.347513</td>\n",
       "      <td>0.000472</td>\n",
       "      <td>39987</td>\n",
       "      <td>0.347918</td>\n",
       "    </tr>\n",
       "    <tr>\n",
       "      <th>6</th>\n",
       "      <td>rob_placebo_did_logvol</td>\n",
       "      <td>is_dex:post_fake</td>\n",
       "      <td>-1.766843</td>\n",
       "      <td>0.434813</td>\n",
       "      <td>0.000048</td>\n",
       "      <td>55804</td>\n",
       "      <td>0.493622</td>\n",
       "    </tr>\n",
       "    <tr>\n",
       "      <th>5</th>\n",
       "      <td>rob_v3ex100_fe_logvol_dex</td>\n",
       "      <td>v3_share_excl100</td>\n",
       "      <td>-0.134350</td>\n",
       "      <td>0.686962</td>\n",
       "      <td>0.844945</td>\n",
       "      <td>39979</td>\n",
       "      <td>0.351862</td>\n",
       "    </tr>\n",
       "    <tr>\n",
       "      <th>1</th>\n",
       "      <td>rob_winsor_fe_absret_v3share_cex</td>\n",
       "      <td>v3_share_filled</td>\n",
       "      <td>0.002113</td>\n",
       "      <td>0.002627</td>\n",
       "      <td>0.421117</td>\n",
       "      <td>15766</td>\n",
       "      <td>0.396119</td>\n",
       "    </tr>\n",
       "    <tr>\n",
       "      <th>0</th>\n",
       "      <td>rob_winsor_fe_logvol_v3share_dex</td>\n",
       "      <td>v3_share_filled</td>\n",
       "      <td>1.218621</td>\n",
       "      <td>0.352030</td>\n",
       "      <td>0.000537</td>\n",
       "      <td>39987</td>\n",
       "      <td>0.354474</td>\n",
       "    </tr>\n",
       "  </tbody>\n",
       "</table>\n",
       "</div>"
      ],
      "text/plain": [
       "                               model              term  estimate   std_err         p   nobs        r2\n",
       "4     rob_excl_fe_logvol_v3share_dex   v3_share_filled  1.037380  0.472256  0.028046  30777  0.297412\n",
       "2   rob_gaslog_fe_logvol_v3share_dex   v3_share_filled  1.211408  0.346575  0.000473  39987  0.348447\n",
       "3  rob_gasplus_fe_logvol_v3share_dex   v3_share_filled  1.215036  0.347513  0.000472  39987  0.347918\n",
       "6             rob_placebo_did_logvol  is_dex:post_fake -1.766843  0.434813  0.000048  55804  0.493622\n",
       "5          rob_v3ex100_fe_logvol_dex  v3_share_excl100 -0.134350  0.686962  0.844945  39979  0.351862\n",
       "1   rob_winsor_fe_absret_v3share_cex   v3_share_filled  0.002113  0.002627  0.421117  15766  0.396119\n",
       "0   rob_winsor_fe_logvol_v3share_dex   v3_share_filled  1.218621  0.352030  0.000537  39987  0.354474"
      ]
     },
     "metadata": {},
     "output_type": "display_data"
    },
    {
     "name": "stdout",
     "output_type": "stream",
     "text": [
      "[OK] wrote ..\\reports\\tables\\robustness\\robustness_key_coefs.csv\n"
     ]
    },
    {
     "data": {
      "image/png": "[encoded data removed]",
      "text/plain": [
       "<Figure size 1000x500 with 1 Axes>"
      ]
     },
     "metadata": {},
     "output_type": "display_data"
    }
   ],
   "source": [
    "# =========================\n",
    "# Collect key coefficients across specs and plot\n",
    "# =========================\n",
    "def read_key_coef(name: str, term_prefixes=('v3_share','is_dex:post','is_dex:post_fake','v3_share_excl100')):\n",
    "    p = MOD_DIR / f\"{name}_coefs.parquet\"\n",
    "    if not p.exists():\n",
    "        return None\n",
    "    t = pd.read_parquet(p)\n",
    "    k = t.copy()\n",
    "    k = k[k[\"term\"].str.startswith(term_prefixes)]\n",
    "    if k.empty:\n",
    "        # try explicit interaction term label used by patsy\n",
    "        k = t[t[\"term\"].str.contains(\":\", regex=False)]\n",
    "    if k.empty:\n",
    "        return None\n",
    "    # take first matching term\n",
    "    row = k.iloc[0]\n",
    "    return {\n",
    "        \"model\": name,\n",
    "        \"term\": row[\"term\"],\n",
    "        \"estimate\": float(row[\"estimate\"]),\n",
    "        \"std_err\": float(row[\"std_err\"]),\n",
    "        \"p\": float(row[\"p\"]),\n",
    "        \"nobs\": int(t[\"nobs\"].iloc[0]) if \"nobs\" in t.columns else np.nan,\n",
    "        \"r2\": float(t[\"r2\"].iloc[0]) if \"r2\" in t.columns else np.nan,\n",
    "    }\n",
    "\n",
    "models_to_collect = [\n",
    "    \"rob_winsor_fe_logvol_v3share_dex\",\n",
    "    \"rob_winsor_fe_absret_v3share_cex\",\n",
    "    \"rob_gaslog_fe_logvol_v3share_dex\",\n",
    "    \"rob_gasplus_fe_logvol_v3share_dex\",\n",
    "    \"rob_excl_fe_logvol_v3share_dex\",\n",
    "    \"rob_v3ex100_fe_logvol_dex\",\n",
    "    \"rob_placebo_did_logvol\",\n",
    "]\n",
    "\n",
    "rows = []\n",
    "for m in models_to_collect:\n",
    "    r = read_key_coef(m)\n",
    "    if r:\n",
    "        rows.append(r)\n",
    "\n",
    "summary = pd.DataFrame(rows).sort_values(\"model\")\n",
    "display(summary)\n",
    "summary.to_csv(TAB_DIR / \"robustness_key_coefs.csv\", index=False)\n",
    "print(f\"[OK] wrote {TAB_DIR / 'robustness_key_coefs.csv'}\")\n",
    "\n",
    "# Simple bar chart of estimates (with sign); ignore SEs for a quick visual\n",
    "if not summary.empty:\n",
    "    ax = summary.set_index(\"model\")[\"estimate\"].plot(kind=\"bar\", rot=45)\n",
    "    ax.set_title(\"Key robustness coefficients (point estimates)\")\n",
    "    ax.set_ylabel(\"estimate\")\n",
    "    savefig(\"robustness_key_coefs_bar\")\n",
    "    plt.show()"
   ]
  },
  {
   "cell_type": "code",
   "execution_count": 10,
   "id": "a1fe91c0-c668-447f-827e-4580cb093932",
   "metadata": {},
   "outputs": [
    {
     "name": "stdout",
     "output_type": "stream",
     "text": [
      "[Done] Robustness checks completed. Tables -> ..\\reports\\tables\\robustness\n"
     ]
    }
   ],
   "source": [
    "# =========================\n",
    "# Done\n",
    "# =========================\n",
    "print(\"[Done] Robustness checks completed. Tables ->\", TAB_DIR)"
   ]
  }
 ],
 "metadata": {
  "kernelspec": {
   "display_name": "Python (mscqf-rep)",
   "language": "python",
   "name": "mscqf-rep"
  },
  "language_info": {
   "codemirror_mode": {
    "name": "ipython",
    "version": 3
   },
   "file_extension": ".py",
   "mimetype": "text/x-python",
   "name": "python",
   "nbconvert_exporter": "python",
   "pygments_lexer": "ipython3",
   "version": "3.11.13"
  }
 },
 "nbformat": 4,
 "nbformat_minor": 5
}
