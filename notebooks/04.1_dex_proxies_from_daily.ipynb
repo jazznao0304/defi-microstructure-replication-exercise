{
 "cells": [
  {
   "cell_type": "code",
   "execution_count": 1,
   "id": "07f5435b-1fb7-40cc-8af5-742a5ed42e96",
   "metadata": {},
   "outputs": [],
   "source": [
    "# setup\n",
    "%load_ext autoreload\n",
    "%autoreload 2\n",
    "import os, sys\n",
    "sys.path.append(os.path.abspath(\"../src\"))\n",
    "\n",
    "from replication.dex_proxies_from_daily import run_dex_proxies_from_daily, DexProxyTask"
   ]
  },
  {
   "cell_type": "code",
   "execution_count": 2,
   "id": "6d37947c-b182-45ec-912b-69bb2a60f94b",
   "metadata": {},
   "outputs": [
    {
     "data": {
      "text/plain": [
       "'\\n# ETH-USDC and ETH-USDT, full window (daily DEX proxies)\\nrun_dex_proxies_from_daily(\\n    DexProxyTask(\\n        venues=[\"uniswap_v2\",\"uniswap_v3\"],\\n        labels=[\"ETH-USDC\",\"ETH-USDT\"]\\n    )\\n)\\n'"
      ]
     },
     "execution_count": 2,
     "metadata": {},
     "output_type": "execute_result"
    }
   ],
   "source": [
    "\"\"\"\n",
    "# ETH-USDC and ETH-USDT, full window (daily DEX proxies)\n",
    "run_dex_proxies_from_daily(\n",
    "    DexProxyTask(\n",
    "        venues=[\"uniswap_v2\",\"uniswap_v3\"],\n",
    "        labels=[\"ETH-USDC\",\"ETH-USDT\"]\n",
    "    )\n",
    ")\n",
    "\"\"\""
   ]
  },
  {
   "cell_type": "code",
   "execution_count": 3,
   "id": "d9a19498-8b74-46b5-a3b2-51c7a61967a3",
   "metadata": {},
   "outputs": [
    {
     "name": "stdout",
     "output_type": "stream",
     "text": [
      "[OK] uniswap_v2:AAVE-ETH -> C:\\Users\\jazzn\\Downloads\\thesis\\ssrn-3984897-replication\\data\\interim\\dex\\proxies\\uniswap_v2\\AAVE-ETH_proxies.parquet\n",
      "[OK] uniswap_v2:BAT-ETH -> C:\\Users\\jazzn\\Downloads\\thesis\\ssrn-3984897-replication\\data\\interim\\dex\\proxies\\uniswap_v2\\BAT-ETH_proxies.parquet\n",
      "[OK] uniswap_v2:BTC-DAI -> C:\\Users\\jazzn\\Downloads\\thesis\\ssrn-3984897-replication\\data\\interim\\dex\\proxies\\uniswap_v2\\BTC-DAI_proxies.parquet\n",
      "[OK] uniswap_v2:BTC-USDC -> C:\\Users\\jazzn\\Downloads\\thesis\\ssrn-3984897-replication\\data\\interim\\dex\\proxies\\uniswap_v2\\BTC-USDC_proxies.parquet\n",
      "[OK] uniswap_v2:CRV-ETH -> C:\\Users\\jazzn\\Downloads\\thesis\\ssrn-3984897-replication\\data\\interim\\dex\\proxies\\uniswap_v2\\CRV-ETH_proxies.parquet\n",
      "[OK] uniswap_v2:DAI-ETH -> C:\\Users\\jazzn\\Downloads\\thesis\\ssrn-3984897-replication\\data\\interim\\dex\\proxies\\uniswap_v2\\DAI-ETH_proxies.parquet\n",
      "[OK] uniswap_v2:DAI-USDT -> C:\\Users\\jazzn\\Downloads\\thesis\\ssrn-3984897-replication\\data\\interim\\dex\\proxies\\uniswap_v2\\DAI-USDT_proxies.parquet\n",
      "[OK] uniswap_v2:ETH-BTC -> C:\\Users\\jazzn\\Downloads\\thesis\\ssrn-3984897-replication\\data\\interim\\dex\\proxies\\uniswap_v2\\ETH-BTC_proxies.parquet\n",
      "[OK] uniswap_v2:ETH-USDC -> C:\\Users\\jazzn\\Downloads\\thesis\\ssrn-3984897-replication\\data\\interim\\dex\\proxies\\uniswap_v2\\ETH-USDC_proxies.parquet\n",
      "[OK] uniswap_v2:ETH-USDT -> C:\\Users\\jazzn\\Downloads\\thesis\\ssrn-3984897-replication\\data\\interim\\dex\\proxies\\uniswap_v2\\ETH-USDT_proxies.parquet\n",
      "[OK] uniswap_v2:GRT-ETH -> C:\\Users\\jazzn\\Downloads\\thesis\\ssrn-3984897-replication\\data\\interim\\dex\\proxies\\uniswap_v2\\GRT-ETH_proxies.parquet\n",
      "[OK] uniswap_v2:KNC-ETH -> C:\\Users\\jazzn\\Downloads\\thesis\\ssrn-3984897-replication\\data\\interim\\dex\\proxies\\uniswap_v2\\KNC-ETH_proxies.parquet\n",
      "[OK] uniswap_v2:LINK-ETH -> C:\\Users\\jazzn\\Downloads\\thesis\\ssrn-3984897-replication\\data\\interim\\dex\\proxies\\uniswap_v2\\LINK-ETH_proxies.parquet\n",
      "[OK] uniswap_v2:MANA-ETH -> C:\\Users\\jazzn\\Downloads\\thesis\\ssrn-3984897-replication\\data\\interim\\dex\\proxies\\uniswap_v2\\MANA-ETH_proxies.parquet\n",
      "[OK] uniswap_v2:OMG-ETH -> C:\\Users\\jazzn\\Downloads\\thesis\\ssrn-3984897-replication\\data\\interim\\dex\\proxies\\uniswap_v2\\OMG-ETH_proxies.parquet\n",
      "[OK] uniswap_v2:REP-ETH -> C:\\Users\\jazzn\\Downloads\\thesis\\ssrn-3984897-replication\\data\\interim\\dex\\proxies\\uniswap_v2\\REP-ETH_proxies.parquet\n",
      "[OK] uniswap_v2:SNX-ETH -> C:\\Users\\jazzn\\Downloads\\thesis\\ssrn-3984897-replication\\data\\interim\\dex\\proxies\\uniswap_v2\\SNX-ETH_proxies.parquet\n",
      "[OK] uniswap_v2:STORJ-ETH -> C:\\Users\\jazzn\\Downloads\\thesis\\ssrn-3984897-replication\\data\\interim\\dex\\proxies\\uniswap_v2\\STORJ-ETH_proxies.parquet\n",
      "[OK] uniswap_v2:UNI-ETH -> C:\\Users\\jazzn\\Downloads\\thesis\\ssrn-3984897-replication\\data\\interim\\dex\\proxies\\uniswap_v2\\UNI-ETH_proxies.parquet\n",
      "[OK] uniswap_v2:USDC-USDT -> C:\\Users\\jazzn\\Downloads\\thesis\\ssrn-3984897-replication\\data\\interim\\dex\\proxies\\uniswap_v2\\USDC-USDT_proxies.parquet\n",
      "[OK] uniswap_v3_fee10000:AAVE-ETH -> C:\\Users\\jazzn\\Downloads\\thesis\\ssrn-3984897-replication\\data\\interim\\dex\\proxies\\uniswap_v3_fee10000\\AAVE-ETH_proxies.parquet\n",
      "[OK] uniswap_v3_fee3000:AAVE-ETH -> C:\\Users\\jazzn\\Downloads\\thesis\\ssrn-3984897-replication\\data\\interim\\dex\\proxies\\uniswap_v3_fee3000\\AAVE-ETH_proxies.parquet\n",
      "[OK] uniswap_v3_fee500:AAVE-ETH -> C:\\Users\\jazzn\\Downloads\\thesis\\ssrn-3984897-replication\\data\\interim\\dex\\proxies\\uniswap_v3_fee500\\AAVE-ETH_proxies.parquet\n",
      "[OK] uniswap_v3_fee10000:BAT-ETH -> C:\\Users\\jazzn\\Downloads\\thesis\\ssrn-3984897-replication\\data\\interim\\dex\\proxies\\uniswap_v3_fee10000\\BAT-ETH_proxies.parquet\n",
      "[OK] uniswap_v3_fee3000:BAT-ETH -> C:\\Users\\jazzn\\Downloads\\thesis\\ssrn-3984897-replication\\data\\interim\\dex\\proxies\\uniswap_v3_fee3000\\BAT-ETH_proxies.parquet\n",
      "[OK] uniswap_v3_fee10000:BTC-DAI -> C:\\Users\\jazzn\\Downloads\\thesis\\ssrn-3984897-replication\\data\\interim\\dex\\proxies\\uniswap_v3_fee10000\\BTC-DAI_proxies.parquet\n",
      "[OK] uniswap_v3_fee3000:BTC-DAI -> C:\\Users\\jazzn\\Downloads\\thesis\\ssrn-3984897-replication\\data\\interim\\dex\\proxies\\uniswap_v3_fee3000\\BTC-DAI_proxies.parquet\n",
      "[OK] uniswap_v3_fee500:BTC-DAI -> C:\\Users\\jazzn\\Downloads\\thesis\\ssrn-3984897-replication\\data\\interim\\dex\\proxies\\uniswap_v3_fee500\\BTC-DAI_proxies.parquet\n",
      "[OK] uniswap_v3_fee100:BTC-USDC -> C:\\Users\\jazzn\\Downloads\\thesis\\ssrn-3984897-replication\\data\\interim\\dex\\proxies\\uniswap_v3_fee100\\BTC-USDC_proxies.parquet\n",
      "[OK] uniswap_v3_fee10000:BTC-USDC -> C:\\Users\\jazzn\\Downloads\\thesis\\ssrn-3984897-replication\\data\\interim\\dex\\proxies\\uniswap_v3_fee10000\\BTC-USDC_proxies.parquet\n",
      "[OK] uniswap_v3_fee3000:BTC-USDC -> C:\\Users\\jazzn\\Downloads\\thesis\\ssrn-3984897-replication\\data\\interim\\dex\\proxies\\uniswap_v3_fee3000\\BTC-USDC_proxies.parquet\n",
      "[OK] uniswap_v3_fee500:BTC-USDC -> C:\\Users\\jazzn\\Downloads\\thesis\\ssrn-3984897-replication\\data\\interim\\dex\\proxies\\uniswap_v3_fee500\\BTC-USDC_proxies.parquet\n",
      "[OK] uniswap_v3_fee10000:CRV-ETH -> C:\\Users\\jazzn\\Downloads\\thesis\\ssrn-3984897-replication\\data\\interim\\dex\\proxies\\uniswap_v3_fee10000\\CRV-ETH_proxies.parquet\n",
      "[OK] uniswap_v3_fee3000:CRV-ETH -> C:\\Users\\jazzn\\Downloads\\thesis\\ssrn-3984897-replication\\data\\interim\\dex\\proxies\\uniswap_v3_fee3000\\CRV-ETH_proxies.parquet\n",
      "[OK] uniswap_v3_fee100:DAI-ETH -> C:\\Users\\jazzn\\Downloads\\thesis\\ssrn-3984897-replication\\data\\interim\\dex\\proxies\\uniswap_v3_fee100\\DAI-ETH_proxies.parquet\n",
      "[OK] uniswap_v3_fee10000:DAI-ETH -> C:\\Users\\jazzn\\Downloads\\thesis\\ssrn-3984897-replication\\data\\interim\\dex\\proxies\\uniswap_v3_fee10000\\DAI-ETH_proxies.parquet\n",
      "[OK] uniswap_v3_fee3000:DAI-ETH -> C:\\Users\\jazzn\\Downloads\\thesis\\ssrn-3984897-replication\\data\\interim\\dex\\proxies\\uniswap_v3_fee3000\\DAI-ETH_proxies.parquet\n",
      "[OK] uniswap_v3_fee500:DAI-ETH -> C:\\Users\\jazzn\\Downloads\\thesis\\ssrn-3984897-replication\\data\\interim\\dex\\proxies\\uniswap_v3_fee500\\DAI-ETH_proxies.parquet\n",
      "[OK] uniswap_v3_fee100:DAI-USDT -> C:\\Users\\jazzn\\Downloads\\thesis\\ssrn-3984897-replication\\data\\interim\\dex\\proxies\\uniswap_v3_fee100\\DAI-USDT_proxies.parquet\n",
      "[OK] uniswap_v3_fee3000:DAI-USDT -> C:\\Users\\jazzn\\Downloads\\thesis\\ssrn-3984897-replication\\data\\interim\\dex\\proxies\\uniswap_v3_fee3000\\DAI-USDT_proxies.parquet\n",
      "[OK] uniswap_v3_fee500:DAI-USDT -> C:\\Users\\jazzn\\Downloads\\thesis\\ssrn-3984897-replication\\data\\interim\\dex\\proxies\\uniswap_v3_fee500\\DAI-USDT_proxies.parquet\n",
      "[OK] uniswap_v3_fee100:ETH-BTC -> C:\\Users\\jazzn\\Downloads\\thesis\\ssrn-3984897-replication\\data\\interim\\dex\\proxies\\uniswap_v3_fee100\\ETH-BTC_proxies.parquet\n",
      "[OK] uniswap_v3_fee10000:ETH-BTC -> C:\\Users\\jazzn\\Downloads\\thesis\\ssrn-3984897-replication\\data\\interim\\dex\\proxies\\uniswap_v3_fee10000\\ETH-BTC_proxies.parquet\n",
      "[OK] uniswap_v3_fee3000:ETH-BTC -> C:\\Users\\jazzn\\Downloads\\thesis\\ssrn-3984897-replication\\data\\interim\\dex\\proxies\\uniswap_v3_fee3000\\ETH-BTC_proxies.parquet\n",
      "[OK] uniswap_v3_fee500:ETH-BTC -> C:\\Users\\jazzn\\Downloads\\thesis\\ssrn-3984897-replication\\data\\interim\\dex\\proxies\\uniswap_v3_fee500\\ETH-BTC_proxies.parquet\n",
      "[OK] uniswap_v3_fee100:ETH-USDC -> C:\\Users\\jazzn\\Downloads\\thesis\\ssrn-3984897-replication\\data\\interim\\dex\\proxies\\uniswap_v3_fee100\\ETH-USDC_proxies.parquet\n",
      "[OK] uniswap_v3_fee10000:ETH-USDC -> C:\\Users\\jazzn\\Downloads\\thesis\\ssrn-3984897-replication\\data\\interim\\dex\\proxies\\uniswap_v3_fee10000\\ETH-USDC_proxies.parquet\n",
      "[OK] uniswap_v3_fee3000:ETH-USDC -> C:\\Users\\jazzn\\Downloads\\thesis\\ssrn-3984897-replication\\data\\interim\\dex\\proxies\\uniswap_v3_fee3000\\ETH-USDC_proxies.parquet\n",
      "[OK] uniswap_v3_fee500:ETH-USDC -> C:\\Users\\jazzn\\Downloads\\thesis\\ssrn-3984897-replication\\data\\interim\\dex\\proxies\\uniswap_v3_fee500\\ETH-USDC_proxies.parquet\n",
      "[OK] uniswap_v3_fee100:ETH-USDT -> C:\\Users\\jazzn\\Downloads\\thesis\\ssrn-3984897-replication\\data\\interim\\dex\\proxies\\uniswap_v3_fee100\\ETH-USDT_proxies.parquet\n",
      "[OK] uniswap_v3_fee10000:ETH-USDT -> C:\\Users\\jazzn\\Downloads\\thesis\\ssrn-3984897-replication\\data\\interim\\dex\\proxies\\uniswap_v3_fee10000\\ETH-USDT_proxies.parquet\n",
      "[OK] uniswap_v3_fee3000:ETH-USDT -> C:\\Users\\jazzn\\Downloads\\thesis\\ssrn-3984897-replication\\data\\interim\\dex\\proxies\\uniswap_v3_fee3000\\ETH-USDT_proxies.parquet\n",
      "[OK] uniswap_v3_fee500:ETH-USDT -> C:\\Users\\jazzn\\Downloads\\thesis\\ssrn-3984897-replication\\data\\interim\\dex\\proxies\\uniswap_v3_fee500\\ETH-USDT_proxies.parquet\n",
      "[OK] uniswap_v3_fee10000:GRT-ETH -> C:\\Users\\jazzn\\Downloads\\thesis\\ssrn-3984897-replication\\data\\interim\\dex\\proxies\\uniswap_v3_fee10000\\GRT-ETH_proxies.parquet\n",
      "[OK] uniswap_v3_fee3000:GRT-ETH -> C:\\Users\\jazzn\\Downloads\\thesis\\ssrn-3984897-replication\\data\\interim\\dex\\proxies\\uniswap_v3_fee3000\\GRT-ETH_proxies.parquet\n",
      "[OK] uniswap_v3_fee10000:KNC-ETH -> C:\\Users\\jazzn\\Downloads\\thesis\\ssrn-3984897-replication\\data\\interim\\dex\\proxies\\uniswap_v3_fee10000\\KNC-ETH_proxies.parquet\n",
      "[OK] uniswap_v3_fee10000:LINK-ETH -> C:\\Users\\jazzn\\Downloads\\thesis\\ssrn-3984897-replication\\data\\interim\\dex\\proxies\\uniswap_v3_fee10000\\LINK-ETH_proxies.parquet\n",
      "[OK] uniswap_v3_fee3000:LINK-ETH -> C:\\Users\\jazzn\\Downloads\\thesis\\ssrn-3984897-replication\\data\\interim\\dex\\proxies\\uniswap_v3_fee3000\\LINK-ETH_proxies.parquet\n",
      "[OK] uniswap_v3_fee500:LINK-ETH -> C:\\Users\\jazzn\\Downloads\\thesis\\ssrn-3984897-replication\\data\\interim\\dex\\proxies\\uniswap_v3_fee500\\LINK-ETH_proxies.parquet\n",
      "[OK] uniswap_v3_fee10000:MANA-ETH -> C:\\Users\\jazzn\\Downloads\\thesis\\ssrn-3984897-replication\\data\\interim\\dex\\proxies\\uniswap_v3_fee10000\\MANA-ETH_proxies.parquet\n",
      "[OK] uniswap_v3_fee3000:MANA-ETH -> C:\\Users\\jazzn\\Downloads\\thesis\\ssrn-3984897-replication\\data\\interim\\dex\\proxies\\uniswap_v3_fee3000\\MANA-ETH_proxies.parquet\n",
      "[OK] uniswap_v3_fee10000:OMG-ETH -> C:\\Users\\jazzn\\Downloads\\thesis\\ssrn-3984897-replication\\data\\interim\\dex\\proxies\\uniswap_v3_fee10000\\OMG-ETH_proxies.parquet\n",
      "[OK] uniswap_v3_fee3000:OMG-ETH -> C:\\Users\\jazzn\\Downloads\\thesis\\ssrn-3984897-replication\\data\\interim\\dex\\proxies\\uniswap_v3_fee3000\\OMG-ETH_proxies.parquet\n",
      "[OK] uniswap_v3_fee10000:REP-ETH -> C:\\Users\\jazzn\\Downloads\\thesis\\ssrn-3984897-replication\\data\\interim\\dex\\proxies\\uniswap_v3_fee10000\\REP-ETH_proxies.parquet\n",
      "[OK] uniswap_v3_fee3000:REP-ETH -> C:\\Users\\jazzn\\Downloads\\thesis\\ssrn-3984897-replication\\data\\interim\\dex\\proxies\\uniswap_v3_fee3000\\REP-ETH_proxies.parquet\n",
      "[OK] uniswap_v3_fee10000:SNX-ETH -> C:\\Users\\jazzn\\Downloads\\thesis\\ssrn-3984897-replication\\data\\interim\\dex\\proxies\\uniswap_v3_fee10000\\SNX-ETH_proxies.parquet\n",
      "[OK] uniswap_v3_fee3000:SNX-ETH -> C:\\Users\\jazzn\\Downloads\\thesis\\ssrn-3984897-replication\\data\\interim\\dex\\proxies\\uniswap_v3_fee3000\\SNX-ETH_proxies.parquet\n",
      "[OK] uniswap_v3_fee10000:STORJ-ETH -> C:\\Users\\jazzn\\Downloads\\thesis\\ssrn-3984897-replication\\data\\interim\\dex\\proxies\\uniswap_v3_fee10000\\STORJ-ETH_proxies.parquet\n",
      "[OK] uniswap_v3_fee10000:UNI-ETH -> C:\\Users\\jazzn\\Downloads\\thesis\\ssrn-3984897-replication\\data\\interim\\dex\\proxies\\uniswap_v3_fee10000\\UNI-ETH_proxies.parquet\n",
      "[OK] uniswap_v3_fee3000:UNI-ETH -> C:\\Users\\jazzn\\Downloads\\thesis\\ssrn-3984897-replication\\data\\interim\\dex\\proxies\\uniswap_v3_fee3000\\UNI-ETH_proxies.parquet\n",
      "[OK] uniswap_v3_fee500:UNI-ETH -> C:\\Users\\jazzn\\Downloads\\thesis\\ssrn-3984897-replication\\data\\interim\\dex\\proxies\\uniswap_v3_fee500\\UNI-ETH_proxies.parquet\n",
      "[OK] uniswap_v3_fee100:USDC-USDT -> C:\\Users\\jazzn\\Downloads\\thesis\\ssrn-3984897-replication\\data\\interim\\dex\\proxies\\uniswap_v3_fee100\\USDC-USDT_proxies.parquet\n",
      "[OK] uniswap_v3_fee10000:USDC-USDT -> C:\\Users\\jazzn\\Downloads\\thesis\\ssrn-3984897-replication\\data\\interim\\dex\\proxies\\uniswap_v3_fee10000\\USDC-USDT_proxies.parquet\n",
      "[OK] uniswap_v3_fee3000:USDC-USDT -> C:\\Users\\jazzn\\Downloads\\thesis\\ssrn-3984897-replication\\data\\interim\\dex\\proxies\\uniswap_v3_fee3000\\USDC-USDT_proxies.parquet\n",
      "[OK] uniswap_v3_fee500:USDC-USDT -> C:\\Users\\jazzn\\Downloads\\thesis\\ssrn-3984897-replication\\data\\interim\\dex\\proxies\\uniswap_v3_fee500\\USDC-USDT_proxies.parquet\n"
     ]
    }
   ],
   "source": [
    "# All pairs, full window\n",
    "run_dex_proxies_from_daily(\n",
    "    DexProxyTask(\n",
    "        venues=[\"uniswap_v2\",\"uniswap_v3\"]\n",
    "    )\n",
    ")"
   ]
  }
 ],
 "metadata": {
  "kernelspec": {
   "display_name": "Python (mscqf-rep)",
   "language": "python",
   "name": "mscqf-rep"
  },
  "language_info": {
   "codemirror_mode": {
    "name": "ipython",
    "version": 3
   },
   "file_extension": ".py",
   "mimetype": "text/x-python",
   "name": "python",
   "nbconvert_exporter": "python",
   "pygments_lexer": "ipython3",
   "version": "3.11.13"
  }
 },
 "nbformat": 4,
 "nbformat_minor": 5
}
