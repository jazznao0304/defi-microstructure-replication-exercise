{
 "cells": [
  {
   "cell_type": "code",
   "execution_count": null,
   "id": "2acca010-5ced-43b0-8d2e-0152f7be8142",
   "metadata": {},
   "outputs": [],
   "source": [
    "# setup\n",
    "%load_ext autoreload\n",
    "%autoreload 2\n",
    "import os, sys, datetime as dt\n",
    "sys.path.append(os.path.abspath(\"../src\"))\n",
    "\n",
    "from replication.uniswap_v3_extract_graph import run_uniswap_v3_extract_graph"
   ]
  },
  {
   "cell_type": "code",
   "execution_count": null,
   "id": "e27e0354-907e-4c00-b6e6-0da21e574c40",
   "metadata": {},
   "outputs": [],
   "source": [
    "# ETH-USDC and ETH-USDT, full window (hourly from subgraph)\n",
    "run_uniswap_v3_extract_graph(labels=[\"ETH-USDC\", \"ETH-USDT\"])"
   ]
  },
  {
   "cell_type": "code",
   "execution_count": null,
   "id": "b4d3a5d7-4bdb-40d1-b66d-9e43fee272b4",
   "metadata": {},
   "outputs": [],
   "source": [
    "\"\"\"\n",
    "# All pairs, one week's worth\n",
    "START = int(dt.datetime(2021, 5, 1, tzinfo=dt.timezone.utc).timestamp())\n",
    "END   = int(dt.datetime(2021, 5, 8, tzinfo=dt.timezone.utc).timestamp())\n",
    "run_uniswap_v3_extract_graph(start_ts=START, end_ts=END, filename_suffix=\"_wk\", out_subdir=\"testweek\")\n",
    "\"\"\""
   ]
  },
  {
   "cell_type": "code",
   "execution_count": null,
   "id": "fd4e3f3a-baa0-4278-b657-eb4bb665f5b3",
   "metadata": {},
   "outputs": [],
   "source": [
    "\"\"\"\n",
    "# All pairs, full window\n",
    "run_uniswap_v3_extract_graph()\n",
    "\"\"\""
   ]
  }
 ],
 "metadata": {
  "kernelspec": {
   "display_name": "Python (mscqf-rep)",
   "language": "python",
   "name": "mscqf-rep"
  },
  "language_info": {
   "codemirror_mode": {
    "name": "ipython",
    "version": 3
   },
   "file_extension": ".py",
   "mimetype": "text/x-python",
   "name": "python",
   "nbconvert_exporter": "python",
   "pygments_lexer": "ipython3",
   "version": "3.11.13"
  }
 },
 "nbformat": 4,
 "nbformat_minor": 5
}
