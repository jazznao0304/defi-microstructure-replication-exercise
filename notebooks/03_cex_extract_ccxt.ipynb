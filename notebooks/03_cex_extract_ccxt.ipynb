{
 "cells": [
  {
   "cell_type": "code",
   "execution_count": 1,
   "id": "e49a1b46-13eb-4d8a-936e-8c3515b694bb",
   "metadata": {},
   "outputs": [],
   "source": [
    "# setup\n",
    "%load_ext autoreload\n",
    "%autoreload 2\n",
    "import os, sys, datetime as dt\n",
    "sys.path.append(os.path.abspath(\"../src\"))\n",
    "\n",
    "from replication.cex_extract_ccxt import run_cex_extract_ccxt"
   ]
  },
  {
   "cell_type": "code",
   "execution_count": 2,
   "id": "e8a1232a-67d7-4e34-8062-cf0c612b4e0f",
   "metadata": {},
   "outputs": [
    {
     "data": {
      "text/plain": [
       "'\\n# ETH-USDC and ETH-USDT, full window (daily from CCXT)\\nrun_cex_extract_ccxt(\\n    exchanges=[\"binance\",\"coinbase\",\"kraken\",\"okx\",\"huobi\"],\\n    symbols=[\"ETH/USDC\",\"ETH/USDT\"],\\n    timeframe=\"1d\"\\n)\\n'"
      ]
     },
     "execution_count": 2,
     "metadata": {},
     "output_type": "execute_result"
    }
   ],
   "source": [
    "\"\"\"\n",
    "# ETH-USDC and ETH-USDT, full window (daily from CCXT)\n",
    "run_cex_extract_ccxt(\n",
    "    exchanges=[\"binance\",\"coinbase\",\"kraken\",\"okx\",\"huobi\"],\n",
    "    symbols=[\"ETH/USDC\",\"ETH/USDT\"],\n",
    "    timeframe=\"1d\"\n",
    ")\n",
    "\"\"\""
   ]
  },
  {
   "cell_type": "code",
   "execution_count": 3,
   "id": "a3ebcd7d-cfa9-4313-a505-cd5a2aa76ad7",
   "metadata": {},
   "outputs": [
    {
     "data": {
      "text/plain": [
       "'\\n# All pairs, one week\\'s worth\\nSTART = int(dt.datetime(2021, 5, 1, tzinfo=dt.timezone.utc).timestamp())\\nEND   = int(dt.datetime(2021, 5, 8, tzinfo=dt.timezone.utc).timestamp())\\nrun_cex_extract_ccxt(\\n    exchanges=[\"binance\",\"coinbase\",\"kraken\",\"okx\",\"huobi\"],\\n    timeframe=\"1d\",\\n    start_ts=START, end_ts=END\\n)\\n'"
      ]
     },
     "execution_count": 3,
     "metadata": {},
     "output_type": "execute_result"
    }
   ],
   "source": [
    "\"\"\"\n",
    "# All pairs, one week's worth\n",
    "START = int(dt.datetime(2021, 5, 1, tzinfo=dt.timezone.utc).timestamp())\n",
    "END   = int(dt.datetime(2021, 5, 8, tzinfo=dt.timezone.utc).timestamp())\n",
    "run_cex_extract_ccxt(\n",
    "    exchanges=[\"binance\",\"coinbase\",\"kraken\",\"okx\",\"huobi\"],\n",
    "    timeframe=\"1d\",\n",
    "    start_ts=START, end_ts=END\n",
    ")\n",
    "\"\"\""
   ]
  },
  {
   "cell_type": "code",
   "execution_count": 4,
   "id": "0ba566f7-1644-4517-8ce0-22b51b330134",
   "metadata": {},
   "outputs": [
    {
     "name": "stdout",
     "output_type": "stream",
     "text": [
      "Window: full (2021-02-01 → 2023-03-01, UTC)\n",
      "\n",
      "=== binance ===\n",
      "[OHLCV] binance:ETH/USDC 2021-02-01→2023-03-01\n",
      "Saved -> C:\\Users\\jazzn\\Downloads\\thesis\\ssrn-3984897-replication\\data\\raw\\cex\\ohlcv\\binance\\ETH-USDC_1d.parquet  (rows=606, first=2021-02-01, last=2022-09-29)\n",
      "[OHLCV] binance:ETH/USDT 2021-02-01→2023-03-01\n",
      "Saved -> C:\\Users\\jazzn\\Downloads\\thesis\\ssrn-3984897-replication\\data\\raw\\cex\\ohlcv\\binance\\ETH-USDT_1d.parquet  (rows=758, first=2021-02-01, last=2023-02-28)\n",
      "[OHLCV] binance:LINK/ETH 2021-02-01→2023-03-01\n",
      "Saved -> C:\\Users\\jazzn\\Downloads\\thesis\\ssrn-3984897-replication\\data\\raw\\cex\\ohlcv\\binance\\LINK-ETH_1d.parquet  (rows=758, first=2021-02-01, last=2023-02-28)\n",
      "[OHLCV] binance:BTC/USDC 2021-02-01→2023-03-01\n",
      "Saved -> C:\\Users\\jazzn\\Downloads\\thesis\\ssrn-3984897-replication\\data\\raw\\cex\\ohlcv\\binance\\BTC-USDC_1d.parquet  (rows=606, first=2021-02-01, last=2022-09-29)\n",
      "[OHLCV] binance:MANA/ETH 2021-02-01→2023-03-01\n",
      "Saved -> C:\\Users\\jazzn\\Downloads\\thesis\\ssrn-3984897-replication\\data\\raw\\cex\\ohlcv\\binance\\MANA-ETH_1d.parquet  (rows=758, first=2021-02-01, last=2023-02-28)\n",
      "[OHLCV] binance:USDC/USDT 2021-02-01→2023-03-01\n",
      "Saved -> C:\\Users\\jazzn\\Downloads\\thesis\\ssrn-3984897-replication\\data\\raw\\cex\\ohlcv\\binance\\USDC-USDT_1d.parquet  (rows=603, first=2021-02-01, last=2022-09-26)\n",
      "[OHLCV] binance:DAI/USDT 2021-02-01→2023-03-01\n",
      "[INFO] no OHLCV returned.\n",
      "[OHLCV] binance:AAVE/ETH 2021-02-01→2023-03-01\n",
      "Saved -> C:\\Users\\jazzn\\Downloads\\thesis\\ssrn-3984897-replication\\data\\raw\\cex\\ohlcv\\binance\\AAVE-ETH_1d.parquet  (rows=758, first=2021-02-01, last=2023-02-28)\n",
      "[OHLCV] binance:BAT/ETH 2021-02-01→2023-03-01\n",
      "Saved -> C:\\Users\\jazzn\\Downloads\\thesis\\ssrn-3984897-replication\\data\\raw\\cex\\ohlcv\\binance\\BAT-ETH_1d.parquet  (rows=758, first=2021-02-01, last=2023-02-28)\n",
      "[OHLCV] binance:BTC/DAI 2021-02-01→2023-03-01\n",
      "Saved -> C:\\Users\\jazzn\\Downloads\\thesis\\ssrn-3984897-replication\\data\\raw\\cex\\ohlcv\\binance\\BTC-DAI_1d.parquet  (rows=758, first=2021-02-01, last=2023-02-28)\n",
      "[OHLCV] binance:CRV/ETH 2021-02-01→2023-03-01\n",
      "Saved -> C:\\Users\\jazzn\\Downloads\\thesis\\ssrn-3984897-replication\\data\\raw\\cex\\ohlcv\\binance\\CRV-ETH_1d.parquet  (rows=404, first=2022-01-21, last=2023-02-28)\n",
      "[OHLCV] binance:GRT/ETH 2021-02-01→2023-03-01\n",
      "Saved -> C:\\Users\\jazzn\\Downloads\\thesis\\ssrn-3984897-replication\\data\\raw\\cex\\ohlcv\\binance\\GRT-ETH_1d.parquet  (rows=758, first=2021-02-01, last=2023-02-28)\n",
      "[OHLCV] binance:KNC/ETH 2021-02-01→2023-03-01\n",
      "Saved -> C:\\Users\\jazzn\\Downloads\\thesis\\ssrn-3984897-replication\\data\\raw\\cex\\ohlcv\\binance\\KNC-ETH_1d.parquet  (rows=758, first=2021-02-01, last=2023-02-28)\n",
      "[OHLCV] binance:SNX/ETH 2021-02-01→2023-03-01\n",
      "Saved -> C:\\Users\\jazzn\\Downloads\\thesis\\ssrn-3984897-replication\\data\\raw\\cex\\ohlcv\\binance\\SNX-ETH_1d.parquet  (rows=250, first=2022-06-24, last=2023-02-28)\n",
      "[OHLCV] binance:STORJ/ETH 2021-02-01→2023-03-01\n",
      "[INFO] no OHLCV returned.\n",
      "[OHLCV] binance:UNI/ETH 2021-02-01→2023-03-01\n",
      "Saved -> C:\\Users\\jazzn\\Downloads\\thesis\\ssrn-3984897-replication\\data\\raw\\cex\\ohlcv\\binance\\UNI-ETH_1d.parquet  (rows=411, first=2022-01-14, last=2023-02-28)\n",
      "[OHLCV] binance:OMG/ETH 2021-02-01→2023-03-01\n",
      "Saved -> C:\\Users\\jazzn\\Downloads\\thesis\\ssrn-3984897-replication\\data\\raw\\cex\\ohlcv\\binance\\OMG-ETH_1d.parquet  (rows=758, first=2021-02-01, last=2023-02-28)\n",
      "\n",
      "=== coinbase ===\n",
      "[OHLCV] coinbase:ETH/USDC 2021-02-01→2023-03-01\n",
      "Saved -> C:\\Users\\jazzn\\Downloads\\thesis\\ssrn-3984897-replication\\data\\raw\\cex\\ohlcv\\coinbase\\ETH-USDC_1d.parquet  (rows=758, first=2021-02-01, last=2023-02-28)\n",
      "[OHLCV] coinbase:ETH/USDT 2021-02-01→2023-03-01\n",
      "Saved -> C:\\Users\\jazzn\\Downloads\\thesis\\ssrn-3984897-replication\\data\\raw\\cex\\ohlcv\\coinbase\\ETH-USDT_1d.parquet  (rows=666, first=2021-05-04, last=2023-02-28)\n",
      "[OHLCV] coinbase:LINK/ETH 2021-02-01→2023-03-01\n",
      "Saved -> C:\\Users\\jazzn\\Downloads\\thesis\\ssrn-3984897-replication\\data\\raw\\cex\\ohlcv\\coinbase\\LINK-ETH_1d.parquet  (rows=758, first=2021-02-01, last=2023-02-28)\n",
      "[OHLCV] coinbase:BTC/USDC 2021-02-01→2023-03-01\n",
      "Saved -> C:\\Users\\jazzn\\Downloads\\thesis\\ssrn-3984897-replication\\data\\raw\\cex\\ohlcv\\coinbase\\BTC-USDC_1d.parquet  (rows=758, first=2021-02-01, last=2023-02-28)\n",
      "[OHLCV] coinbase:MANA/ETH 2021-02-01→2023-03-01\n",
      "Saved -> C:\\Users\\jazzn\\Downloads\\thesis\\ssrn-3984897-replication\\data\\raw\\cex\\ohlcv\\coinbase\\MANA-ETH_1d.parquet  (rows=680, first=2021-04-20, last=2023-02-28)\n",
      "[OHLCV] coinbase:BAT/ETH 2021-02-01→2023-03-01\n",
      "Saved -> C:\\Users\\jazzn\\Downloads\\thesis\\ssrn-3984897-replication\\data\\raw\\cex\\ohlcv\\coinbase\\BAT-ETH_1d.parquet  (rows=758, first=2021-02-01, last=2023-02-28)\n",
      "\n",
      "=== kraken ===\n",
      "[OHLCV] kraken:ETH/USDC 2021-02-01→2023-03-01\n",
      "[INFO] no OHLCV returned.\n",
      "[OHLCV] kraken:ETH/USDT 2021-02-01→2023-03-01\n",
      "[INFO] no OHLCV returned.\n",
      "[OHLCV] kraken:LINK/ETH 2021-02-01→2023-03-01\n",
      "[INFO] no OHLCV returned.\n",
      "[OHLCV] kraken:USDC/USDT 2021-02-01→2023-03-01\n",
      "[INFO] no OHLCV returned.\n",
      "[OHLCV] kraken:DAI/USDT 2021-02-01→2023-03-01\n",
      "[INFO] no OHLCV returned.\n",
      "[OHLCV] kraken:AAVE/ETH 2021-02-01→2023-03-01\n",
      "[INFO] no OHLCV returned.\n",
      "[OHLCV] kraken:UNI/ETH 2021-02-01→2023-03-01\n",
      "[INFO] no OHLCV returned.\n",
      "\n",
      "=== okx ===\n",
      "[OHLCV] okx:ETH/USDC 2021-02-01→2023-03-01\n",
      "[INFO] no OHLCV returned.\n",
      "[OHLCV] okx:ETH/USDT 2021-02-01→2023-03-01\n",
      "Saved -> C:\\Users\\jazzn\\Downloads\\thesis\\ssrn-3984897-replication\\data\\raw\\cex\\ohlcv\\okx\\ETH-USDT_1d.parquet  (rows=758, first=2021-02-01, last=2023-02-28)\n",
      "[OHLCV] okx:BTC/USDC 2021-02-01→2023-03-01\n",
      "[INFO] no OHLCV returned.\n",
      "[OHLCV] okx:USDC/USDT 2021-02-01→2023-03-01\n",
      "Saved -> C:\\Users\\jazzn\\Downloads\\thesis\\ssrn-3984897-replication\\data\\raw\\cex\\ohlcv\\okx\\USDC-USDT_1d.parquet  (rows=758, first=2021-02-01, last=2023-02-28)\n",
      "[OHLCV] okx:DAI/USDT 2021-02-01→2023-03-01\n",
      "Saved -> C:\\Users\\jazzn\\Downloads\\thesis\\ssrn-3984897-replication\\data\\raw\\cex\\ohlcv\\okx\\DAI-USDT_1d.parquet  (rows=758, first=2021-02-01, last=2023-02-28)\n",
      "\n",
      "=== huobi ===\n",
      "[WARN] cannot init huobi/htx: htx GET https://api.hbdm.com/linear-swap-api/v1/swap_contract_info?business_type=all\n",
      "\n",
      "Saved markets meta -> C:\\Users\\jazzn\\Downloads\\thesis\\ssrn-3984897-replication\\data\\raw\\cex\\meta\\markets.parquet\n"
     ]
    }
   ],
   "source": [
    "# All pairs, full window\n",
    "run_cex_extract_ccxt(\n",
    "    exchanges=[\"binance\",\"coinbase\",\"kraken\",\"okx\",\"huobi\"],\n",
    "    timeframe=\"1d\"\n",
    ")"
   ]
  }
 ],
 "metadata": {
  "kernelspec": {
   "display_name": "Python (mscqf-rep)",
   "language": "python",
   "name": "mscqf-rep"
  },
  "language_info": {
   "codemirror_mode": {
    "name": "ipython",
    "version": 3
   },
   "file_extension": ".py",
   "mimetype": "text/x-python",
   "name": "python",
   "nbconvert_exporter": "python",
   "pygments_lexer": "ipython3",
   "version": "3.11.13"
  }
 },
 "nbformat": 4,
 "nbformat_minor": 5
}
