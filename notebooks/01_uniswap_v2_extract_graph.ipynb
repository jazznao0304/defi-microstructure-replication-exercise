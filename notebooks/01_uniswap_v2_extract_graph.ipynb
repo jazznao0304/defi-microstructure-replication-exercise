{
 "cells": [
  {
   "cell_type": "code",
   "execution_count": null,
   "id": "9ce9d357-2d1c-4f7f-af7c-bf48a61b8c85",
   "metadata": {},
   "outputs": [],
   "source": [
    "# setup\n",
    "%load_ext autoreload\n",
    "%autoreload 2\n",
    "import os, sys, datetime as dt\n",
    "sys.path.append(os.path.abspath(\"../src\"))\n",
    "\n",
    "from replication.uniswap_v2_extract_graph import run_uniswap_v2_extract_graph"
   ]
  },
  {
   "cell_type": "code",
   "execution_count": null,
   "id": "2fa75458-3403-4933-8423-b209e1de8583",
   "metadata": {},
   "outputs": [],
   "source": [
    "# ETH-USDC and ETH-USDT, full window (hourly from subgraph)\n",
    "run_uniswap_v2_extract_graph(labels=[\"ETH-USDC\", \"ETH-USDT\"])"
   ]
  },
  {
   "cell_type": "code",
   "execution_count": null,
   "id": "c31cd023-168f-4a19-9795-a5ac0d398339",
   "metadata": {},
   "outputs": [],
   "source": [
    "\"\"\"\n",
    "# All pairs, one week's worth\n",
    "START = int(dt.datetime(2021, 5, 1, tzinfo=dt.timezone.utc).timestamp())\n",
    "END   = int(dt.datetime(2021, 5, 8, tzinfo=dt.timezone.utc).timestamp())\n",
    "run_uniswap_v2_extract_graph(start_ts=START, end_ts=END, filename_suffix=\"_wk\", out_subdir=\"testweek\")\n",
    "\"\"\""
   ]
  },
  {
   "cell_type": "code",
   "execution_count": null,
   "id": "53324858-bcba-4aeb-98ac-25c31ab84519",
   "metadata": {},
   "outputs": [],
   "source": [
    "\"\"\"\n",
    "# All pairs, full window\n",
    "run_uniswap_v2_extract_graph()\n",
    "\"\"\""
   ]
  }
 ],
 "metadata": {
  "kernelspec": {
   "display_name": "Python (mscqf-rep)",
   "language": "python",
   "name": "mscqf-rep"
  },
  "language_info": {
   "codemirror_mode": {
    "name": "ipython",
    "version": 3
   },
   "file_extension": ".py",
   "mimetype": "text/x-python",
   "name": "python",
   "nbconvert_exporter": "python",
   "pygments_lexer": "ipython3",
   "version": "3.11.13"
  }
 },
 "nbformat": 4,
 "nbformat_minor": 5
}
