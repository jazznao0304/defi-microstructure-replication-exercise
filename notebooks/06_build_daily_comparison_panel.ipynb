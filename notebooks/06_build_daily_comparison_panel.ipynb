{
 "cells": [
  {
   "cell_type": "code",
   "execution_count": 1,
   "id": "97e479ca-fb00-4ff4-ad05-961e6e0b553f",
   "metadata": {},
   "outputs": [],
   "source": [
    "# setup\n",
    "%load_ext autoreload\n",
    "%autoreload 2\n",
    "import os, sys, datetime as dt\n",
    "sys.path.append(os.path.abspath(\"../src\"))\n",
    "\n",
    "from replication.build_daily_comparison_panel import run_build_daily_comparison_panel"
   ]
  },
  {
   "cell_type": "code",
   "execution_count": 2,
   "id": "b5a6fc4a-6919-4055-b314-41631ee3508c",
   "metadata": {},
   "outputs": [
    {
     "data": {
      "text/plain": [
       "'\\n# ETH-USDC and ETH-USDT, full window (daily comparison panel)\\nrun_build_daily_comparison_panel(labels=[\"ETH-USDC\",\"ETH-USDT\"])\\n'"
      ]
     },
     "execution_count": 2,
     "metadata": {},
     "output_type": "execute_result"
    }
   ],
   "source": [
    "\"\"\"\n",
    "# ETH-USDC and ETH-USDT, full window (daily comparison panel)\n",
    "run_build_daily_comparison_panel(labels=[\"ETH-USDC\",\"ETH-USDT\"])\n",
    "\"\"\""
   ]
  },
  {
   "cell_type": "code",
   "execution_count": 3,
   "id": "897d08da-64e2-47ca-9877-9532104a05d4",
   "metadata": {},
   "outputs": [
    {
     "data": {
      "text/plain": [
       "\"\\n# All pairs, one week's worth\\nSTART = dt.date(2021, 5, 1)\\nEND   = dt.date(2021, 5, 8)\\nrun_build_daily_comparison_panel(start_date=START, end_date=END)\\n\""
      ]
     },
     "execution_count": 3,
     "metadata": {},
     "output_type": "execute_result"
    }
   ],
   "source": [
    "\"\"\"\n",
    "# All pairs, one week's worth\n",
    "START = dt.date(2021, 5, 1)\n",
    "END   = dt.date(2021, 5, 8)\n",
    "run_build_daily_comparison_panel(start_date=START, end_date=END)\n",
    "\"\"\""
   ]
  },
  {
   "cell_type": "code",
   "execution_count": 4,
   "id": "25b3693b-de04-4f65-b8f7-17e7b8f02958",
   "metadata": {},
   "outputs": [
    {
     "name": "stdout",
     "output_type": "stream",
     "text": [
      "[OK] daily comparison panel -> C:\\Users\\jazzn\\Downloads\\thesis\\ssrn-3984897-replication\\data\\processed\\compare\\daily_panel.parquet\n",
      "[OK] daily comparison panel with v3 aggregation -> C:\\Users\\jazzn\\Downloads\\thesis\\ssrn-3984897-replication\\data\\processed\\compare\\daily_panel_agg.parquet\n"
     ]
    }
   ],
   "source": [
    "# All pairs, full window\n",
    "run_build_daily_comparison_panel()"
   ]
  }
 ],
 "metadata": {
  "kernelspec": {
   "display_name": "Python (mscqf-rep)",
   "language": "python",
   "name": "mscqf-rep"
  },
  "language_info": {
   "codemirror_mode": {
    "name": "ipython",
    "version": 3
   },
   "file_extension": ".py",
   "mimetype": "text/x-python",
   "name": "python",
   "nbconvert_exporter": "python",
   "pygments_lexer": "ipython3",
   "version": "3.11.13"
  }
 },
 "nbformat": 4,
 "nbformat_minor": 5
}
